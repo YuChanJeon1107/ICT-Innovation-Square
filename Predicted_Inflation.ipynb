{
  "nbformat": 4,
  "nbformat_minor": 0,
  "metadata": {
    "colab": {
      "provenance": [],
      "authorship_tag": "ABX9TyOsi0PmPV4wA1wrIX99z7Ks",
      "include_colab_link": true
    },
    "kernelspec": {
      "name": "python3",
      "display_name": "Python 3"
    },
    "language_info": {
      "name": "python"
    }
  },
  "cells": [
    {
      "cell_type": "markdown",
      "metadata": {
        "id": "view-in-github",
        "colab_type": "text"
      },
      "source": [
        "<a href=\"https://colab.research.google.com/github/YuchanJeon1107/ICT-Innovation-Square/blob/main/Predicted_Inflation.ipynb\" target=\"_parent\"><img src=\"https://colab.research.google.com/assets/colab-badge.svg\" alt=\"Open In Colab\"/></a>"
      ]
    },
    {
      "cell_type": "markdown",
      "source": [
        "### Library"
      ],
      "metadata": {
        "id": "I39DlEb-1wQB"
      }
    },
    {
      "cell_type": "code",
      "execution_count": null,
      "metadata": {
        "id": "_sGVv4qrkQ-c"
      },
      "outputs": [],
      "source": [
        "import numpy as np\n",
        "import pandas as pd\n",
        "import matplotlib.pyplot as plt\n",
        "import seaborn as sns"
      ]
    },
    {
      "cell_type": "code",
      "source": [
        "from google.colab import drive\n",
        "drive.mount('/content/drive')"
      ],
      "metadata": {
        "colab": {
          "base_uri": "https://localhost:8080/"
        },
        "id": "VIkgTQdtkduc",
        "outputId": "a8199712-d2a2-485e-e43d-2353e96cbd6b"
      },
      "execution_count": null,
      "outputs": [
        {
          "output_type": "stream",
          "name": "stdout",
          "text": [
            "Mounted at /content/drive\n"
          ]
        }
      ]
    },
    {
      "cell_type": "markdown",
      "source": [
        "### Data Set"
      ],
      "metadata": {
        "id": "ANijTMKm13IR"
      }
    },
    {
      "cell_type": "code",
      "source": [
        "df = pd.read_csv('/content/drive/MyDrive/서울 ICT이노베이션스퀘어/Project/DataSet.csv')\n",
        "df.info()"
      ],
      "metadata": {
        "colab": {
          "base_uri": "https://localhost:8080/"
        },
        "id": "okNi5PXnkgJ3",
        "outputId": "c06ae52f-5958-4ae9-828c-c76aaf465b2b"
      },
      "execution_count": null,
      "outputs": [
        {
          "output_type": "stream",
          "name": "stdout",
          "text": [
            "<class 'pandas.core.frame.DataFrame'>\n",
            "RangeIndex: 41 entries, 0 to 40\n",
            "Data columns (total 7 columns):\n",
            " #   Column           Non-Null Count  Dtype  \n",
            "---  ------           --------------  -----  \n",
            " 0   Date             40 non-null     object \n",
            " 1   Money Supply     40 non-null     float64\n",
            " 2   Interest Rate    40 non-null     float64\n",
            " 3   GDP              40 non-null     float64\n",
            " 4   Personal Income  40 non-null     float64\n",
            " 5   Commodity Index  40 non-null     float64\n",
            " 6   Inflation Rate   40 non-null     float64\n",
            "dtypes: float64(6), object(1)\n",
            "memory usage: 2.4+ KB\n"
          ]
        }
      ]
    },
    {
      "cell_type": "code",
      "source": [
        "df.keys()"
      ],
      "metadata": {
        "colab": {
          "base_uri": "https://localhost:8080/"
        },
        "id": "TFxdBySb5Ar2",
        "outputId": "7a1bb902-2e6a-4d56-d16a-da00859caa26"
      },
      "execution_count": null,
      "outputs": [
        {
          "output_type": "execute_result",
          "data": {
            "text/plain": [
              "Index(['Date', 'Money Supply', 'Interest Rate', 'GDP', 'Personal Income',\n",
              "       'Commodity Index', 'Inflation Rate'],\n",
              "      dtype='object')"
            ]
          },
          "metadata": {},
          "execution_count": 6
        }
      ]
    },
    {
      "cell_type": "code",
      "source": [
        "df.isnull().sum()"
      ],
      "metadata": {
        "colab": {
          "base_uri": "https://localhost:8080/"
        },
        "id": "aGazIqap5qvZ",
        "outputId": "ba5b58f4-38cd-4cc8-db08-c652b9affc15"
      },
      "execution_count": null,
      "outputs": [
        {
          "output_type": "execute_result",
          "data": {
            "text/plain": [
              "Date               1\n",
              "Money Supply       1\n",
              "Interest Rate      1\n",
              "GDP                1\n",
              "Personal Income    1\n",
              "Commodity Index    1\n",
              "Inflation Rate     1\n",
              "dtype: int64"
            ]
          },
          "metadata": {},
          "execution_count": 7
        }
      ]
    },
    {
      "cell_type": "markdown",
      "source": [
        "### Train Data Analysis"
      ],
      "metadata": {
        "id": "cOqBVYsf2Enk"
      }
    },
    {
      "cell_type": "code",
      "source": [
        "df.head()"
      ],
      "metadata": {
        "colab": {
          "base_uri": "https://localhost:8080/"
        },
        "id": "XX0QGwjjk4KP",
        "outputId": "ee7c2185-f6fd-4609-880b-621859881438"
      },
      "execution_count": null,
      "outputs": [
        {
          "output_type": "execute_result",
          "data": {
            "text/plain": [
              "         Date  Money Supply  Interest Rate        GDP  Personal Income  \\\n",
              "0  2011-01-01       8875.00           0.75  15351.444         42714.00   \n",
              "1  2011-04-01       9040.80           0.75  15557.535         43167.75   \n",
              "2  2011-07-01       9448.47           0.75  15647.681         43621.50   \n",
              "3  2011-10-01       9612.53           0.75  15842.267         44075.25   \n",
              "4  2012-01-01       9775.03           0.75  16068.824         44529.00   \n",
              "\n",
              "   Commodity Index  Inflation Rate  \n",
              "0         3.156842      179.307752  \n",
              "1         2.884965      189.516403  \n",
              "2         2.613089      184.904347  \n",
              "3         2.341213      176.161925  \n",
              "4         2.069337      182.660239  "
            ],
            "text/html": [
              "\n",
              "  <div id=\"df-50f8d00c-ce56-4398-867c-e98a0b2cebad\">\n",
              "    <div class=\"colab-df-container\">\n",
              "      <div>\n",
              "<style scoped>\n",
              "    .dataframe tbody tr th:only-of-type {\n",
              "        vertical-align: middle;\n",
              "    }\n",
              "\n",
              "    .dataframe tbody tr th {\n",
              "        vertical-align: top;\n",
              "    }\n",
              "\n",
              "    .dataframe thead th {\n",
              "        text-align: right;\n",
              "    }\n",
              "</style>\n",
              "<table border=\"1\" class=\"dataframe\">\n",
              "  <thead>\n",
              "    <tr style=\"text-align: right;\">\n",
              "      <th></th>\n",
              "      <th>Date</th>\n",
              "      <th>Money Supply</th>\n",
              "      <th>Interest Rate</th>\n",
              "      <th>GDP</th>\n",
              "      <th>Personal Income</th>\n",
              "      <th>Commodity Index</th>\n",
              "      <th>Inflation Rate</th>\n",
              "    </tr>\n",
              "  </thead>\n",
              "  <tbody>\n",
              "    <tr>\n",
              "      <th>0</th>\n",
              "      <td>2011-01-01</td>\n",
              "      <td>8875.00</td>\n",
              "      <td>0.75</td>\n",
              "      <td>15351.444</td>\n",
              "      <td>42714.00</td>\n",
              "      <td>3.156842</td>\n",
              "      <td>179.307752</td>\n",
              "    </tr>\n",
              "    <tr>\n",
              "      <th>1</th>\n",
              "      <td>2011-04-01</td>\n",
              "      <td>9040.80</td>\n",
              "      <td>0.75</td>\n",
              "      <td>15557.535</td>\n",
              "      <td>43167.75</td>\n",
              "      <td>2.884965</td>\n",
              "      <td>189.516403</td>\n",
              "    </tr>\n",
              "    <tr>\n",
              "      <th>2</th>\n",
              "      <td>2011-07-01</td>\n",
              "      <td>9448.47</td>\n",
              "      <td>0.75</td>\n",
              "      <td>15647.681</td>\n",
              "      <td>43621.50</td>\n",
              "      <td>2.613089</td>\n",
              "      <td>184.904347</td>\n",
              "    </tr>\n",
              "    <tr>\n",
              "      <th>3</th>\n",
              "      <td>2011-10-01</td>\n",
              "      <td>9612.53</td>\n",
              "      <td>0.75</td>\n",
              "      <td>15842.267</td>\n",
              "      <td>44075.25</td>\n",
              "      <td>2.341213</td>\n",
              "      <td>176.161925</td>\n",
              "    </tr>\n",
              "    <tr>\n",
              "      <th>4</th>\n",
              "      <td>2012-01-01</td>\n",
              "      <td>9775.03</td>\n",
              "      <td>0.75</td>\n",
              "      <td>16068.824</td>\n",
              "      <td>44529.00</td>\n",
              "      <td>2.069337</td>\n",
              "      <td>182.660239</td>\n",
              "    </tr>\n",
              "  </tbody>\n",
              "</table>\n",
              "</div>\n",
              "      <button class=\"colab-df-convert\" onclick=\"convertToInteractive('df-50f8d00c-ce56-4398-867c-e98a0b2cebad')\"\n",
              "              title=\"Convert this dataframe to an interactive table.\"\n",
              "              style=\"display:none;\">\n",
              "        \n",
              "  <svg xmlns=\"http://www.w3.org/2000/svg\" height=\"24px\"viewBox=\"0 0 24 24\"\n",
              "       width=\"24px\">\n",
              "    <path d=\"M0 0h24v24H0V0z\" fill=\"none\"/>\n",
              "    <path d=\"M18.56 5.44l.94 2.06.94-2.06 2.06-.94-2.06-.94-.94-2.06-.94 2.06-2.06.94zm-11 1L8.5 8.5l.94-2.06 2.06-.94-2.06-.94L8.5 2.5l-.94 2.06-2.06.94zm10 10l.94 2.06.94-2.06 2.06-.94-2.06-.94-.94-2.06-.94 2.06-2.06.94z\"/><path d=\"M17.41 7.96l-1.37-1.37c-.4-.4-.92-.59-1.43-.59-.52 0-1.04.2-1.43.59L10.3 9.45l-7.72 7.72c-.78.78-.78 2.05 0 2.83L4 21.41c.39.39.9.59 1.41.59.51 0 1.02-.2 1.41-.59l7.78-7.78 2.81-2.81c.8-.78.8-2.07 0-2.86zM5.41 20L4 18.59l7.72-7.72 1.47 1.35L5.41 20z\"/>\n",
              "  </svg>\n",
              "      </button>\n",
              "      \n",
              "  <style>\n",
              "    .colab-df-container {\n",
              "      display:flex;\n",
              "      flex-wrap:wrap;\n",
              "      gap: 12px;\n",
              "    }\n",
              "\n",
              "    .colab-df-convert {\n",
              "      background-color: #E8F0FE;\n",
              "      border: none;\n",
              "      border-radius: 50%;\n",
              "      cursor: pointer;\n",
              "      display: none;\n",
              "      fill: #1967D2;\n",
              "      height: 32px;\n",
              "      padding: 0 0 0 0;\n",
              "      width: 32px;\n",
              "    }\n",
              "\n",
              "    .colab-df-convert:hover {\n",
              "      background-color: #E2EBFA;\n",
              "      box-shadow: 0px 1px 2px rgba(60, 64, 67, 0.3), 0px 1px 3px 1px rgba(60, 64, 67, 0.15);\n",
              "      fill: #174EA6;\n",
              "    }\n",
              "\n",
              "    [theme=dark] .colab-df-convert {\n",
              "      background-color: #3B4455;\n",
              "      fill: #D2E3FC;\n",
              "    }\n",
              "\n",
              "    [theme=dark] .colab-df-convert:hover {\n",
              "      background-color: #434B5C;\n",
              "      box-shadow: 0px 1px 3px 1px rgba(0, 0, 0, 0.15);\n",
              "      filter: drop-shadow(0px 1px 2px rgba(0, 0, 0, 0.3));\n",
              "      fill: #FFFFFF;\n",
              "    }\n",
              "  </style>\n",
              "\n",
              "      <script>\n",
              "        const buttonEl =\n",
              "          document.querySelector('#df-50f8d00c-ce56-4398-867c-e98a0b2cebad button.colab-df-convert');\n",
              "        buttonEl.style.display =\n",
              "          google.colab.kernel.accessAllowed ? 'block' : 'none';\n",
              "\n",
              "        async function convertToInteractive(key) {\n",
              "          const element = document.querySelector('#df-50f8d00c-ce56-4398-867c-e98a0b2cebad');\n",
              "          const dataTable =\n",
              "            await google.colab.kernel.invokeFunction('convertToInteractive',\n",
              "                                                     [key], {});\n",
              "          if (!dataTable) return;\n",
              "\n",
              "          const docLinkHtml = 'Like what you see? Visit the ' +\n",
              "            '<a target=\"_blank\" href=https://colab.research.google.com/notebooks/data_table.ipynb>data table notebook</a>'\n",
              "            + ' to learn more about interactive tables.';\n",
              "          element.innerHTML = '';\n",
              "          dataTable['output_type'] = 'display_data';\n",
              "          await google.colab.output.renderOutput(dataTable, element);\n",
              "          const docLink = document.createElement('div');\n",
              "          docLink.innerHTML = docLinkHtml;\n",
              "          element.appendChild(docLink);\n",
              "        }\n",
              "      </script>\n",
              "    </div>\n",
              "  </div>\n",
              "  "
            ]
          },
          "metadata": {},
          "execution_count": 8
        }
      ]
    },
    {
      "cell_type": "code",
      "source": [
        "df.tail()"
      ],
      "metadata": {
        "colab": {
          "base_uri": "https://localhost:8080/"
        },
        "id": "XLcZCerylKRY",
        "outputId": "616ce2b1-67fe-4d72-b0e8-fda46ef89b01"
      },
      "execution_count": null,
      "outputs": [
        {
          "output_type": "execute_result",
          "data": {
            "text/plain": [
              "          Date  Money Supply  Interest Rate        GDP  Personal Income  \\\n",
              "36  2020-01-01      15610.26           2.25  21481.367          59162.0   \n",
              "37  2020-04-01      17678.63           0.25  19477.444          60244.5   \n",
              "38  2020-07-01      18434.62           0.25  21138.574          61327.0   \n",
              "39  2020-10-01      18922.59           0.25  21477.597          62409.5   \n",
              "40         NaN           NaN            NaN        NaN              NaN   \n",
              "\n",
              "    Commodity Index  Inflation Rate  \n",
              "36         1.233584      108.078767  \n",
              "37         2.099653       91.726497  \n",
              "38         2.965722      106.738518  \n",
              "39         3.831790      117.098717  \n",
              "40              NaN             NaN  "
            ],
            "text/html": [
              "\n",
              "  <div id=\"df-a82b82a2-fbe3-4b13-9bf8-f1e904ea773f\">\n",
              "    <div class=\"colab-df-container\">\n",
              "      <div>\n",
              "<style scoped>\n",
              "    .dataframe tbody tr th:only-of-type {\n",
              "        vertical-align: middle;\n",
              "    }\n",
              "\n",
              "    .dataframe tbody tr th {\n",
              "        vertical-align: top;\n",
              "    }\n",
              "\n",
              "    .dataframe thead th {\n",
              "        text-align: right;\n",
              "    }\n",
              "</style>\n",
              "<table border=\"1\" class=\"dataframe\">\n",
              "  <thead>\n",
              "    <tr style=\"text-align: right;\">\n",
              "      <th></th>\n",
              "      <th>Date</th>\n",
              "      <th>Money Supply</th>\n",
              "      <th>Interest Rate</th>\n",
              "      <th>GDP</th>\n",
              "      <th>Personal Income</th>\n",
              "      <th>Commodity Index</th>\n",
              "      <th>Inflation Rate</th>\n",
              "    </tr>\n",
              "  </thead>\n",
              "  <tbody>\n",
              "    <tr>\n",
              "      <th>36</th>\n",
              "      <td>2020-01-01</td>\n",
              "      <td>15610.26</td>\n",
              "      <td>2.25</td>\n",
              "      <td>21481.367</td>\n",
              "      <td>59162.0</td>\n",
              "      <td>1.233584</td>\n",
              "      <td>108.078767</td>\n",
              "    </tr>\n",
              "    <tr>\n",
              "      <th>37</th>\n",
              "      <td>2020-04-01</td>\n",
              "      <td>17678.63</td>\n",
              "      <td>0.25</td>\n",
              "      <td>19477.444</td>\n",
              "      <td>60244.5</td>\n",
              "      <td>2.099653</td>\n",
              "      <td>91.726497</td>\n",
              "    </tr>\n",
              "    <tr>\n",
              "      <th>38</th>\n",
              "      <td>2020-07-01</td>\n",
              "      <td>18434.62</td>\n",
              "      <td>0.25</td>\n",
              "      <td>21138.574</td>\n",
              "      <td>61327.0</td>\n",
              "      <td>2.965722</td>\n",
              "      <td>106.738518</td>\n",
              "    </tr>\n",
              "    <tr>\n",
              "      <th>39</th>\n",
              "      <td>2020-10-01</td>\n",
              "      <td>18922.59</td>\n",
              "      <td>0.25</td>\n",
              "      <td>21477.597</td>\n",
              "      <td>62409.5</td>\n",
              "      <td>3.831790</td>\n",
              "      <td>117.098717</td>\n",
              "    </tr>\n",
              "    <tr>\n",
              "      <th>40</th>\n",
              "      <td>NaN</td>\n",
              "      <td>NaN</td>\n",
              "      <td>NaN</td>\n",
              "      <td>NaN</td>\n",
              "      <td>NaN</td>\n",
              "      <td>NaN</td>\n",
              "      <td>NaN</td>\n",
              "    </tr>\n",
              "  </tbody>\n",
              "</table>\n",
              "</div>\n",
              "      <button class=\"colab-df-convert\" onclick=\"convertToInteractive('df-a82b82a2-fbe3-4b13-9bf8-f1e904ea773f')\"\n",
              "              title=\"Convert this dataframe to an interactive table.\"\n",
              "              style=\"display:none;\">\n",
              "        \n",
              "  <svg xmlns=\"http://www.w3.org/2000/svg\" height=\"24px\"viewBox=\"0 0 24 24\"\n",
              "       width=\"24px\">\n",
              "    <path d=\"M0 0h24v24H0V0z\" fill=\"none\"/>\n",
              "    <path d=\"M18.56 5.44l.94 2.06.94-2.06 2.06-.94-2.06-.94-.94-2.06-.94 2.06-2.06.94zm-11 1L8.5 8.5l.94-2.06 2.06-.94-2.06-.94L8.5 2.5l-.94 2.06-2.06.94zm10 10l.94 2.06.94-2.06 2.06-.94-2.06-.94-.94-2.06-.94 2.06-2.06.94z\"/><path d=\"M17.41 7.96l-1.37-1.37c-.4-.4-.92-.59-1.43-.59-.52 0-1.04.2-1.43.59L10.3 9.45l-7.72 7.72c-.78.78-.78 2.05 0 2.83L4 21.41c.39.39.9.59 1.41.59.51 0 1.02-.2 1.41-.59l7.78-7.78 2.81-2.81c.8-.78.8-2.07 0-2.86zM5.41 20L4 18.59l7.72-7.72 1.47 1.35L5.41 20z\"/>\n",
              "  </svg>\n",
              "      </button>\n",
              "      \n",
              "  <style>\n",
              "    .colab-df-container {\n",
              "      display:flex;\n",
              "      flex-wrap:wrap;\n",
              "      gap: 12px;\n",
              "    }\n",
              "\n",
              "    .colab-df-convert {\n",
              "      background-color: #E8F0FE;\n",
              "      border: none;\n",
              "      border-radius: 50%;\n",
              "      cursor: pointer;\n",
              "      display: none;\n",
              "      fill: #1967D2;\n",
              "      height: 32px;\n",
              "      padding: 0 0 0 0;\n",
              "      width: 32px;\n",
              "    }\n",
              "\n",
              "    .colab-df-convert:hover {\n",
              "      background-color: #E2EBFA;\n",
              "      box-shadow: 0px 1px 2px rgba(60, 64, 67, 0.3), 0px 1px 3px 1px rgba(60, 64, 67, 0.15);\n",
              "      fill: #174EA6;\n",
              "    }\n",
              "\n",
              "    [theme=dark] .colab-df-convert {\n",
              "      background-color: #3B4455;\n",
              "      fill: #D2E3FC;\n",
              "    }\n",
              "\n",
              "    [theme=dark] .colab-df-convert:hover {\n",
              "      background-color: #434B5C;\n",
              "      box-shadow: 0px 1px 3px 1px rgba(0, 0, 0, 0.15);\n",
              "      filter: drop-shadow(0px 1px 2px rgba(0, 0, 0, 0.3));\n",
              "      fill: #FFFFFF;\n",
              "    }\n",
              "  </style>\n",
              "\n",
              "      <script>\n",
              "        const buttonEl =\n",
              "          document.querySelector('#df-a82b82a2-fbe3-4b13-9bf8-f1e904ea773f button.colab-df-convert');\n",
              "        buttonEl.style.display =\n",
              "          google.colab.kernel.accessAllowed ? 'block' : 'none';\n",
              "\n",
              "        async function convertToInteractive(key) {\n",
              "          const element = document.querySelector('#df-a82b82a2-fbe3-4b13-9bf8-f1e904ea773f');\n",
              "          const dataTable =\n",
              "            await google.colab.kernel.invokeFunction('convertToInteractive',\n",
              "                                                     [key], {});\n",
              "          if (!dataTable) return;\n",
              "\n",
              "          const docLinkHtml = 'Like what you see? Visit the ' +\n",
              "            '<a target=\"_blank\" href=https://colab.research.google.com/notebooks/data_table.ipynb>data table notebook</a>'\n",
              "            + ' to learn more about interactive tables.';\n",
              "          element.innerHTML = '';\n",
              "          dataTable['output_type'] = 'display_data';\n",
              "          await google.colab.output.renderOutput(dataTable, element);\n",
              "          const docLink = document.createElement('div');\n",
              "          docLink.innerHTML = docLinkHtml;\n",
              "          element.appendChild(docLink);\n",
              "        }\n",
              "      </script>\n",
              "    </div>\n",
              "  </div>\n",
              "  "
            ]
          },
          "metadata": {},
          "execution_count": 9
        }
      ]
    },
    {
      "cell_type": "code",
      "source": [
        "df.describe()"
      ],
      "metadata": {
        "colab": {
          "base_uri": "https://localhost:8080/"
        },
        "id": "VUBnNqTd21A-",
        "outputId": "6e387c48-0290-419d-d0c5-35f6df13b66e"
      },
      "execution_count": null,
      "outputs": [
        {
          "output_type": "execute_result",
          "data": {
            "text/plain": [
              "       Money Supply  Interest Rate          GDP  Personal Income  \\\n",
              "count     40.000000      40.000000     40.00000        40.000000   \n",
              "mean   12645.894000       1.218750  18542.18235     50524.975000   \n",
              "std     2460.763623       0.797005   1957.80260      5485.432743   \n",
              "min     8875.000000       0.250000  15351.44400     42714.000000   \n",
              "25%    10742.215000       0.750000  16858.18875     45679.312500   \n",
              "50%    12397.345000       0.750000  18378.69250     49477.250000   \n",
              "75%    14089.942500       1.750000  20230.91000     54442.875000   \n",
              "max    18922.590000       3.000000  21694.45800     62409.500000   \n",
              "\n",
              "       Commodity Index  Inflation Rate  \n",
              "count        40.000000       40.000000  \n",
              "mean          1.788981      135.830996  \n",
              "std           0.754401       31.345201  \n",
              "min           0.118627       88.767237  \n",
              "25%           1.443185      110.727216  \n",
              "50%           1.731466      121.792596  \n",
              "75%           2.227419      169.280397  \n",
              "max           3.831790      189.516403  "
            ],
            "text/html": [
              "\n",
              "  <div id=\"df-b83543eb-75a1-495f-bf93-ef5b546592ad\">\n",
              "    <div class=\"colab-df-container\">\n",
              "      <div>\n",
              "<style scoped>\n",
              "    .dataframe tbody tr th:only-of-type {\n",
              "        vertical-align: middle;\n",
              "    }\n",
              "\n",
              "    .dataframe tbody tr th {\n",
              "        vertical-align: top;\n",
              "    }\n",
              "\n",
              "    .dataframe thead th {\n",
              "        text-align: right;\n",
              "    }\n",
              "</style>\n",
              "<table border=\"1\" class=\"dataframe\">\n",
              "  <thead>\n",
              "    <tr style=\"text-align: right;\">\n",
              "      <th></th>\n",
              "      <th>Money Supply</th>\n",
              "      <th>Interest Rate</th>\n",
              "      <th>GDP</th>\n",
              "      <th>Personal Income</th>\n",
              "      <th>Commodity Index</th>\n",
              "      <th>Inflation Rate</th>\n",
              "    </tr>\n",
              "  </thead>\n",
              "  <tbody>\n",
              "    <tr>\n",
              "      <th>count</th>\n",
              "      <td>40.000000</td>\n",
              "      <td>40.000000</td>\n",
              "      <td>40.00000</td>\n",
              "      <td>40.000000</td>\n",
              "      <td>40.000000</td>\n",
              "      <td>40.000000</td>\n",
              "    </tr>\n",
              "    <tr>\n",
              "      <th>mean</th>\n",
              "      <td>12645.894000</td>\n",
              "      <td>1.218750</td>\n",
              "      <td>18542.18235</td>\n",
              "      <td>50524.975000</td>\n",
              "      <td>1.788981</td>\n",
              "      <td>135.830996</td>\n",
              "    </tr>\n",
              "    <tr>\n",
              "      <th>std</th>\n",
              "      <td>2460.763623</td>\n",
              "      <td>0.797005</td>\n",
              "      <td>1957.80260</td>\n",
              "      <td>5485.432743</td>\n",
              "      <td>0.754401</td>\n",
              "      <td>31.345201</td>\n",
              "    </tr>\n",
              "    <tr>\n",
              "      <th>min</th>\n",
              "      <td>8875.000000</td>\n",
              "      <td>0.250000</td>\n",
              "      <td>15351.44400</td>\n",
              "      <td>42714.000000</td>\n",
              "      <td>0.118627</td>\n",
              "      <td>88.767237</td>\n",
              "    </tr>\n",
              "    <tr>\n",
              "      <th>25%</th>\n",
              "      <td>10742.215000</td>\n",
              "      <td>0.750000</td>\n",
              "      <td>16858.18875</td>\n",
              "      <td>45679.312500</td>\n",
              "      <td>1.443185</td>\n",
              "      <td>110.727216</td>\n",
              "    </tr>\n",
              "    <tr>\n",
              "      <th>50%</th>\n",
              "      <td>12397.345000</td>\n",
              "      <td>0.750000</td>\n",
              "      <td>18378.69250</td>\n",
              "      <td>49477.250000</td>\n",
              "      <td>1.731466</td>\n",
              "      <td>121.792596</td>\n",
              "    </tr>\n",
              "    <tr>\n",
              "      <th>75%</th>\n",
              "      <td>14089.942500</td>\n",
              "      <td>1.750000</td>\n",
              "      <td>20230.91000</td>\n",
              "      <td>54442.875000</td>\n",
              "      <td>2.227419</td>\n",
              "      <td>169.280397</td>\n",
              "    </tr>\n",
              "    <tr>\n",
              "      <th>max</th>\n",
              "      <td>18922.590000</td>\n",
              "      <td>3.000000</td>\n",
              "      <td>21694.45800</td>\n",
              "      <td>62409.500000</td>\n",
              "      <td>3.831790</td>\n",
              "      <td>189.516403</td>\n",
              "    </tr>\n",
              "  </tbody>\n",
              "</table>\n",
              "</div>\n",
              "      <button class=\"colab-df-convert\" onclick=\"convertToInteractive('df-b83543eb-75a1-495f-bf93-ef5b546592ad')\"\n",
              "              title=\"Convert this dataframe to an interactive table.\"\n",
              "              style=\"display:none;\">\n",
              "        \n",
              "  <svg xmlns=\"http://www.w3.org/2000/svg\" height=\"24px\"viewBox=\"0 0 24 24\"\n",
              "       width=\"24px\">\n",
              "    <path d=\"M0 0h24v24H0V0z\" fill=\"none\"/>\n",
              "    <path d=\"M18.56 5.44l.94 2.06.94-2.06 2.06-.94-2.06-.94-.94-2.06-.94 2.06-2.06.94zm-11 1L8.5 8.5l.94-2.06 2.06-.94-2.06-.94L8.5 2.5l-.94 2.06-2.06.94zm10 10l.94 2.06.94-2.06 2.06-.94-2.06-.94-.94-2.06-.94 2.06-2.06.94z\"/><path d=\"M17.41 7.96l-1.37-1.37c-.4-.4-.92-.59-1.43-.59-.52 0-1.04.2-1.43.59L10.3 9.45l-7.72 7.72c-.78.78-.78 2.05 0 2.83L4 21.41c.39.39.9.59 1.41.59.51 0 1.02-.2 1.41-.59l7.78-7.78 2.81-2.81c.8-.78.8-2.07 0-2.86zM5.41 20L4 18.59l7.72-7.72 1.47 1.35L5.41 20z\"/>\n",
              "  </svg>\n",
              "      </button>\n",
              "      \n",
              "  <style>\n",
              "    .colab-df-container {\n",
              "      display:flex;\n",
              "      flex-wrap:wrap;\n",
              "      gap: 12px;\n",
              "    }\n",
              "\n",
              "    .colab-df-convert {\n",
              "      background-color: #E8F0FE;\n",
              "      border: none;\n",
              "      border-radius: 50%;\n",
              "      cursor: pointer;\n",
              "      display: none;\n",
              "      fill: #1967D2;\n",
              "      height: 32px;\n",
              "      padding: 0 0 0 0;\n",
              "      width: 32px;\n",
              "    }\n",
              "\n",
              "    .colab-df-convert:hover {\n",
              "      background-color: #E2EBFA;\n",
              "      box-shadow: 0px 1px 2px rgba(60, 64, 67, 0.3), 0px 1px 3px 1px rgba(60, 64, 67, 0.15);\n",
              "      fill: #174EA6;\n",
              "    }\n",
              "\n",
              "    [theme=dark] .colab-df-convert {\n",
              "      background-color: #3B4455;\n",
              "      fill: #D2E3FC;\n",
              "    }\n",
              "\n",
              "    [theme=dark] .colab-df-convert:hover {\n",
              "      background-color: #434B5C;\n",
              "      box-shadow: 0px 1px 3px 1px rgba(0, 0, 0, 0.15);\n",
              "      filter: drop-shadow(0px 1px 2px rgba(0, 0, 0, 0.3));\n",
              "      fill: #FFFFFF;\n",
              "    }\n",
              "  </style>\n",
              "\n",
              "      <script>\n",
              "        const buttonEl =\n",
              "          document.querySelector('#df-b83543eb-75a1-495f-bf93-ef5b546592ad button.colab-df-convert');\n",
              "        buttonEl.style.display =\n",
              "          google.colab.kernel.accessAllowed ? 'block' : 'none';\n",
              "\n",
              "        async function convertToInteractive(key) {\n",
              "          const element = document.querySelector('#df-b83543eb-75a1-495f-bf93-ef5b546592ad');\n",
              "          const dataTable =\n",
              "            await google.colab.kernel.invokeFunction('convertToInteractive',\n",
              "                                                     [key], {});\n",
              "          if (!dataTable) return;\n",
              "\n",
              "          const docLinkHtml = 'Like what you see? Visit the ' +\n",
              "            '<a target=\"_blank\" href=https://colab.research.google.com/notebooks/data_table.ipynb>data table notebook</a>'\n",
              "            + ' to learn more about interactive tables.';\n",
              "          element.innerHTML = '';\n",
              "          dataTable['output_type'] = 'display_data';\n",
              "          await google.colab.output.renderOutput(dataTable, element);\n",
              "          const docLink = document.createElement('div');\n",
              "          docLink.innerHTML = docLinkHtml;\n",
              "          element.appendChild(docLink);\n",
              "        }\n",
              "      </script>\n",
              "    </div>\n",
              "  </div>\n",
              "  "
            ]
          },
          "metadata": {},
          "execution_count": 10
        }
      ]
    },
    {
      "cell_type": "code",
      "source": [
        "# 질문: Date 골라서 표기\n",
        "\n",
        "from ctypes import DEFAULT_MODE\n",
        "year = df['Date'].astype(str)\n",
        "money_supply = df['Money Supply']\n",
        "\n",
        "plt.figure(figsize=(30,10))\n",
        "plt.title('Money Supply')\n",
        "plt.plot(year, money_supply, label='Money Supply')\n",
        "plt.legend(loc=5)\n",
        "\n",
        "plt.show()"
      ],
      "metadata": {
        "colab": {
          "base_uri": "https://localhost:8080/"
        },
        "id": "I4T9WM6i57-J",
        "outputId": "1e8c0146-572c-4a4e-c57e-f58cca73931c"
      },
      "execution_count": null,
      "outputs": [
        {
          "output_type": "display_data",
          "data": {
            "text/plain": [
              "<Figure size 2160x720 with 1 Axes>"
            ],
            "image/png": "[encoded data removed]"
          },
          "metadata": {
            "needs_background": "light"
          }
        }
      ]
    },
    {
      "cell_type": "code",
      "source": [
        "year = df['Date'].astype(str)\n",
        "interest_rate = df['Interest Rate']\n",
        "\n",
        "plt.figure(figsize=(30,10))\n",
        "plt.title('Interest Rate')\n",
        "plt.plot(year, interest_rate, label='Interest Rate')\n",
        "plt.legend(loc=5)\n",
        "\n",
        "plt.show()"
      ],
      "metadata": {
        "colab": {
          "base_uri": "https://localhost:8080/"
        },
        "id": "RjNFCn6p_2rQ",
        "outputId": "db3756b5-148b-46d5-cbbc-962954c369c1"
      },
      "execution_count": null,
      "outputs": [
        {
          "output_type": "display_data",
          "data": {
            "text/plain": [
              "<Figure size 2160x720 with 1 Axes>"
            ],
            "image/png": "[encoded data removed]"
          },
          "metadata": {
            "needs_background": "light"
          }
        }
      ]
    },
    {
      "cell_type": "code",
      "source": [
        "year = df['Date'].astype(str)\n",
        "gdp = df['GDP']\n",
        "\n",
        "plt.figure(figsize=(30,10))\n",
        "plt.title('GDP')\n",
        "plt.plot(year, gdp, label='GDP')\n",
        "plt.legend(loc=5)\n",
        "\n",
        "plt.show()"
      ],
      "metadata": {
        "colab": {
          "base_uri": "https://localhost:8080/"
        },
        "id": "dfbl94Vn__K9",
        "outputId": "6ef21782-d322-4d47-8281-fcb6e52d94c2"
      },
      "execution_count": null,
      "outputs": [
        {
          "output_type": "display_data",
          "data": {
            "text/plain": [
              "<Figure size 2160x720 with 1 Axes>"
            ],
            "image/png": "[encoded data removed]"
          },
          "metadata": {
            "needs_background": "light"
          }
        }
      ]
    },
    {
      "cell_type": "code",
      "source": [
        "year = df['Date'].astype(str)\n",
        "personal_income = df['Personal Income']\n",
        "\n",
        "plt.figure(figsize=(30,10))\n",
        "plt.title('Personal Income')\n",
        "plt.plot(year, personal_income, label='Personal Income')\n",
        "plt.legend(loc=5)\n",
        "\n",
        "plt.show()"
      ],
      "metadata": {
        "colab": {
          "base_uri": "https://localhost:8080/"
        },
        "id": "ygXPzIwE__8y",
        "outputId": "384b6418-2796-4d6f-f6d0-638427e3ef34"
      },
      "execution_count": null,
      "outputs": [
        {
          "output_type": "display_data",
          "data": {
            "text/plain": [
              "<Figure size 2160x720 with 1 Axes>"
            ],
            "image/png": "[encoded data removed]"
          },
          "metadata": {
            "needs_background": "light"
          }
        }
      ]
    },
    {
      "cell_type": "code",
      "source": [
        "year = df['Date'].astype(str)\n",
        "commodity_index = df['Commodity Index']\n",
        "\n",
        "plt.figure(figsize=(30,10))\n",
        "plt.title('Commodity Index')\n",
        "plt.plot(year, commodity_index, label='Commodity Index')\n",
        "plt.legend(loc=5)\n",
        "\n",
        "plt.show()"
      ],
      "metadata": {
        "colab": {
          "base_uri": "https://localhost:8080/"
        },
        "id": "Bci5w7cDAAtG",
        "outputId": "adeca0d3-5ef7-415f-f4e3-6fc18e918195"
      },
      "execution_count": null,
      "outputs": [
        {
          "output_type": "display_data",
          "data": {
            "text/plain": [
              "<Figure size 2160x720 with 1 Axes>"
            ],
            "image/png": "[encoded data removed]"
          },
          "metadata": {
            "needs_background": "light"
          }
        }
      ]
    },
    {
      "cell_type": "code",
      "source": [
        "year = df['Date'].astype(str)\n",
        "inflation_rate = df['Inflation Rate']\n",
        "\n",
        "plt.figure(figsize=(30,10))\n",
        "plt.title('Inflation Rate')\n",
        "plt.plot(year, inflation_rate, label='Inflation Rate')\n",
        "plt.legend(loc=5)\n",
        "\n",
        "plt.show()"
      ],
      "metadata": {
        "colab": {
          "base_uri": "https://localhost:8080/"
        },
        "id": "BbPhoeQCABVW",
        "outputId": "47c46678-1e83-40a1-f2b5-80a9e1a69402"
      },
      "execution_count": null,
      "outputs": [
        {
          "output_type": "display_data",
          "data": {
            "text/plain": [
              "<Figure size 2160x720 with 1 Axes>"
            ],
            "image/png": "[encoded data removed]"
          },
          "metadata": {
            "needs_background": "light"
          }
        }
      ]
    },
    {
      "cell_type": "code",
      "source": [
        "df_corr = df.corr()"
      ],
      "metadata": {
        "id": "hoRhxsgEg_MQ"
      },
      "execution_count": null,
      "outputs": []
    },
    {
      "cell_type": "code",
      "source": [
        "plt.figure(figsize=(10, 10))\n",
        "sns.set(font_scale=0.8)\n",
        "sns.heatmap(df_corr, annot=True, cbar=False)\n",
        "plt.show()"
      ],
      "metadata": {
        "colab": {
          "base_uri": "https://localhost:8080/"
        },
        "id": "q3mbaBxT50qF",
        "outputId": "84224124-c3bf-4bf6-b8b4-589ff4f1e843"
      },
      "execution_count": null,
      "outputs": [
        {
          "output_type": "display_data",
          "data": {
            "text/plain": [
              "<Figure size 720x720 with 1 Axes>"
            ],
            "image/png": "[encoded data removed]"
          },
          "metadata": {
            "needs_background": "light"
          }
        }
      ]
    },
    {
      "cell_type": "code",
      "source": [
        "corr_df = pd.DataFrame(df_corr['Inflation Rate'])\n",
        "\n",
        "plt.figure(figsize=(12,8))\n",
        "plt.bar(corr_df.index, corr_df['Inflation Rate'])\n",
        "plt.xticks(rotation=45)"
      ],
      "metadata": {
        "colab": {
          "base_uri": "https://localhost:8080/"
        },
        "id": "7E3EUihf0oZL",
        "outputId": "6fad1bbf-bea4-4c65-c104-c08d79cb06c1"
      },
      "execution_count": null,
      "outputs": [
        {
          "output_type": "execute_result",
          "data": {
            "text/plain": [
              "([0, 1, 2, 3, 4, 5], <a list of 6 Text major ticklabel objects>)"
            ]
          },
          "metadata": {},
          "execution_count": 19
        },
        {
          "output_type": "display_data",
          "data": {
            "text/plain": [
              "<Figure size 864x576 with 1 Axes>"
            ],
            "image/png": "[encoded data removed]"
          },
          "metadata": {}
        }
      ]
    },
    {
      "cell_type": "markdown",
      "source": [
        "### Data Preprocessing"
      ],
      "metadata": {
        "id": "Pk_7ZwA8B9TN"
      }
    },
    {
      "cell_type": "code",
      "source": [
        "df.info()"
      ],
      "metadata": {
        "colab": {
          "base_uri": "https://localhost:8080/"
        },
        "id": "VqIG1sGcCGfA",
        "outputId": "f1bcc68e-1ff8-4475-c78f-0be427b32b09"
      },
      "execution_count": null,
      "outputs": [
        {
          "output_type": "stream",
          "name": "stdout",
          "text": [
            "<class 'pandas.core.frame.DataFrame'>\n",
            "RangeIndex: 41 entries, 0 to 40\n",
            "Data columns (total 7 columns):\n",
            " #   Column           Non-Null Count  Dtype  \n",
            "---  ------           --------------  -----  \n",
            " 0   Date             40 non-null     object \n",
            " 1   Money Supply     40 non-null     float64\n",
            " 2   Interest Rate    40 non-null     float64\n",
            " 3   GDP              40 non-null     float64\n",
            " 4   Personal Income  40 non-null     float64\n",
            " 5   Commodity Index  40 non-null     float64\n",
            " 6   Inflation Rate   40 non-null     float64\n",
            "dtypes: float64(6), object(1)\n",
            "memory usage: 2.4+ KB\n"
          ]
        }
      ]
    },
    {
      "cell_type": "code",
      "source": [
        "df['Money Supply'] = df['Money Supply'].astype('float32')\n",
        "df['Interest Rate'] = df['Interest Rate'].astype('float32')\n",
        "df['GDP'] = df['GDP'].astype('float32')\n",
        "df['Personal Income'] = df['Personal Income'].astype('float32')\n",
        "df['Commodity Index'] = df['Commodity Index'].astype('float32')\n",
        "df['Inflation Rate'] = df['Inflation Rate'].astype('float32')\n",
        "\n",
        "df.info()"
      ],
      "metadata": {
        "colab": {
          "base_uri": "https://localhost:8080/"
        },
        "id": "NhLqs9TACVqk",
        "outputId": "cdd82857-3a1c-48eb-e66c-3fac36edcf17"
      },
      "execution_count": null,
      "outputs": [
        {
          "output_type": "stream",
          "name": "stdout",
          "text": [
            "<class 'pandas.core.frame.DataFrame'>\n",
            "Int64Index: 40 entries, 0 to 39\n",
            "Data columns (total 7 columns):\n",
            " #   Column           Non-Null Count  Dtype  \n",
            "---  ------           --------------  -----  \n",
            " 0   Date             40 non-null     object \n",
            " 1   Money Supply     40 non-null     float32\n",
            " 2   Interest Rate    40 non-null     float32\n",
            " 3   GDP              40 non-null     float32\n",
            " 4   Personal Income  40 non-null     float32\n",
            " 5   Commodity Index  40 non-null     float32\n",
            " 6   Inflation Rate   40 non-null     float32\n",
            "dtypes: float32(6), object(1)\n",
            "memory usage: 1.6+ KB\n"
          ]
        }
      ]
    },
    {
      "cell_type": "code",
      "source": [
        "df = df[df['Money Supply'].notnull()]\n",
        "df = df[df['Interest Rate'].notnull()]\n",
        "df = df[df['GDP'].notnull()]\n",
        "df = df[df['Personal Income'].notnull()]\n",
        "df = df[df['Commodity Index'].notnull()]\n",
        "df = df[df['Inflation Rate'].notnull()]\n",
        "df.info()"
      ],
      "metadata": {
        "colab": {
          "base_uri": "https://localhost:8080/"
        },
        "id": "5EsulqO6qj2h",
        "outputId": "d871850c-9773-466c-e9b3-36ac96e95caa"
      },
      "execution_count": null,
      "outputs": [
        {
          "output_type": "stream",
          "name": "stdout",
          "text": [
            "<class 'pandas.core.frame.DataFrame'>\n",
            "Int64Index: 40 entries, 0 to 39\n",
            "Data columns (total 7 columns):\n",
            " #   Column           Non-Null Count  Dtype  \n",
            "---  ------           --------------  -----  \n",
            " 0   Date             40 non-null     object \n",
            " 1   Money Supply     40 non-null     float32\n",
            " 2   Interest Rate    40 non-null     float32\n",
            " 3   GDP              40 non-null     float32\n",
            " 4   Personal Income  40 non-null     float32\n",
            " 5   Commodity Index  40 non-null     float32\n",
            " 6   Inflation Rate   40 non-null     float32\n",
            "dtypes: float32(6), object(1)\n",
            "memory usage: 1.6+ KB\n"
          ]
        }
      ]
    },
    {
      "cell_type": "code",
      "source": [
        "df.dropna()"
      ],
      "metadata": {
        "colab": {
          "base_uri": "https://localhost:8080/",
          "height": 1000
        },
        "id": "WQlvS20b63ih",
        "outputId": "0a14ddbf-ec78-4a3e-9215-f7354e91d8fc"
      },
      "execution_count": null,
      "outputs": [
        {
          "output_type": "execute_result",
          "data": {
            "text/plain": [
              "          Date  Money Supply  Interest Rate      GDP  Personal Income  \\\n",
              "0   2011-01-01        8872.0           0.75  15352.0          42720.0   \n",
              "1   2011-04-01        9040.0           0.75  15560.0          43168.0   \n",
              "2   2011-07-01        9448.0           0.75  15648.0          43616.0   \n",
              "3   2011-10-01        9616.0           0.75  15840.0          44064.0   \n",
              "4   2012-01-01        9776.0           0.75  16072.0          44544.0   \n",
              "5   2012-04-01        9920.0           0.75  16208.0          44576.0   \n",
              "6   2012-07-01       10112.0           0.75  16320.0          44640.0   \n",
              "7   2012-10-01       10344.0           0.75  16416.0          44704.0   \n",
              "8   2013-01-01       10496.0           0.75  16624.0          44768.0   \n",
              "9   2013-04-01       10616.0           0.75  16704.0          45280.0   \n",
              "10  2013-07-01       10784.0           0.75  16912.0          45824.0   \n",
              "11  2013-10-01       10984.0           0.75  17136.0          46336.0   \n",
              "12  2014-01-01       11144.0           0.75  17152.0          46848.0   \n",
              "13  2014-04-01       11320.0           0.75  17456.0          47328.0   \n",
              "14  2014-07-01       11464.0           0.75  17744.0          47776.0   \n",
              "15  2014-10-01       11608.0           0.75  17856.0          48224.0   \n",
              "16  2015-01-01       11824.0           0.75  17984.0          48704.0   \n",
              "17  2015-04-01       11960.0           0.75  18192.0          48928.0   \n",
              "18  2015-07-01       12104.0           0.75  18304.0          49152.0   \n",
              "19  2015-10-01       12264.0           0.75  18336.0          49376.0   \n",
              "20  2016-01-01       12528.0           1.00  18432.0          49600.0   \n",
              "21  2016-04-01       12760.0           1.00  18608.0          50080.0   \n",
              "22  2016-07-01       12960.0           1.00  18768.0          50560.0   \n",
              "23  2016-10-01       13152.0           1.00  18976.0          51072.0   \n",
              "24  2017-01-01       13336.0           1.25  19152.0          51552.0   \n",
              "25  2017-04-01       13520.0           1.50  19328.0          52128.0   \n",
              "26  2017-07-01       13672.0           1.75  19552.0          52704.0   \n",
              "27  2017-10-01       13808.0           1.75  19888.0          53280.0   \n",
              "28  2018-01-01       13904.0           2.00  20144.0          53856.0   \n",
              "29  2018-04-01       14056.0           2.25  20496.0          54336.0   \n",
              "30  2018-07-01       14200.0           2.25  20656.0          54784.0   \n",
              "31  2018-10-01       14288.0           2.75  20816.0          55264.0   \n",
              "32  2019-01-01       14472.0           3.00  21008.0          55744.0   \n",
              "33  2019-04-01       14656.0           3.00  21296.0          56608.0   \n",
              "34  2019-07-01       14944.0           3.00  21504.0          57440.0   \n",
              "35  2019-10-01       15240.0           2.25  21696.0          58304.0   \n",
              "36  2020-01-01       15608.0           2.25  21488.0          59168.0   \n",
              "37  2020-04-01       17680.0           0.25  19472.0          60256.0   \n",
              "38  2020-07-01       18432.0           0.25  21136.0          61312.0   \n",
              "39  2020-10-01       18928.0           0.25  21472.0          62400.0   \n",
              "\n",
              "    Commodity Index  Inflation Rate  \n",
              "0          3.156250        179.2500  \n",
              "1          2.884766        189.5000  \n",
              "2          2.613281        184.8750  \n",
              "3          2.341797        176.1250  \n",
              "4          2.070312        182.6250  \n",
              "5          1.917969        173.2500  \n",
              "6          1.766602        171.0000  \n",
              "7          1.616211        170.7500  \n",
              "8          1.464844        174.1250  \n",
              "9          1.503906        166.7500  \n",
              "10         1.543945        168.2500  \n",
              "11         1.583008        166.1250  \n",
              "12         1.622070        169.1250  \n",
              "13         1.246094        169.6250  \n",
              "14         0.870605        160.2500  \n",
              "15         0.494629        137.3750  \n",
              "16         0.118652        115.1250  \n",
              "17         0.404297        116.6875  \n",
              "18         0.689941        104.8750  \n",
              "19         0.976074         96.4375  \n",
              "20         1.261719         88.7500  \n",
              "21         1.478516        100.1875  \n",
              "22         1.696289        103.1875  \n",
              "23         1.913086        107.8750  \n",
              "24         2.130859        114.3750  \n",
              "25         2.208984        108.5000  \n",
              "26         2.287109        111.5000  \n",
              "27         2.365234        119.8125  \n",
              "28         2.443359        127.6875  \n",
              "29         2.285156        131.1250  \n",
              "30         2.126953        130.2500  \n",
              "31         1.969727        123.7500  \n",
              "32         1.812500        118.6875  \n",
              "33         1.667969        119.8125  \n",
              "34         1.522461        115.1875  \n",
              "35         1.377930        116.6875  \n",
              "36         1.233398        108.0625  \n",
              "37         2.099609         91.7500  \n",
              "38         2.964844        106.7500  \n",
              "39         3.832031        117.1250  "
            ],
            "text/html": [
              "\n",
              "  <div id=\"df-fe8f5d67-e582-4888-8979-eff43546965d\">\n",
              "    <div class=\"colab-df-container\">\n",
              "      <div>\n",
              "<style scoped>\n",
              "    .dataframe tbody tr th:only-of-type {\n",
              "        vertical-align: middle;\n",
              "    }\n",
              "\n",
              "    .dataframe tbody tr th {\n",
              "        vertical-align: top;\n",
              "    }\n",
              "\n",
              "    .dataframe thead th {\n",
              "        text-align: right;\n",
              "    }\n",
              "</style>\n",
              "<table border=\"1\" class=\"dataframe\">\n",
              "  <thead>\n",
              "    <tr style=\"text-align: right;\">\n",
              "      <th></th>\n",
              "      <th>Date</th>\n",
              "      <th>Money Supply</th>\n",
              "      <th>Interest Rate</th>\n",
              "      <th>GDP</th>\n",
              "      <th>Personal Income</th>\n",
              "      <th>Commodity Index</th>\n",
              "      <th>Inflation Rate</th>\n",
              "    </tr>\n",
              "  </thead>\n",
              "  <tbody>\n",
              "    <tr>\n",
              "      <th>0</th>\n",
              "      <td>2011-01-01</td>\n",
              "      <td>8872.0</td>\n",
              "      <td>0.75</td>\n",
              "      <td>15352.0</td>\n",
              "      <td>42720.0</td>\n",
              "      <td>3.156250</td>\n",
              "      <td>179.2500</td>\n",
              "    </tr>\n",
              "    <tr>\n",
              "      <th>1</th>\n",
              "      <td>2011-04-01</td>\n",
              "      <td>9040.0</td>\n",
              "      <td>0.75</td>\n",
              "      <td>15560.0</td>\n",
              "      <td>43168.0</td>\n",
              "      <td>2.884766</td>\n",
              "      <td>189.5000</td>\n",
              "    </tr>\n",
              "    <tr>\n",
              "      <th>2</th>\n",
              "      <td>2011-07-01</td>\n",
              "      <td>9448.0</td>\n",
              "      <td>0.75</td>\n",
              "      <td>15648.0</td>\n",
              "      <td>43616.0</td>\n",
              "      <td>2.613281</td>\n",
              "      <td>184.8750</td>\n",
              "    </tr>\n",
              "    <tr>\n",
              "      <th>3</th>\n",
              "      <td>2011-10-01</td>\n",
              "      <td>9616.0</td>\n",
              "      <td>0.75</td>\n",
              "      <td>15840.0</td>\n",
              "      <td>44064.0</td>\n",
              "      <td>2.341797</td>\n",
              "      <td>176.1250</td>\n",
              "    </tr>\n",
              "    <tr>\n",
              "      <th>4</th>\n",
              "      <td>2012-01-01</td>\n",
              "      <td>9776.0</td>\n",
              "      <td>0.75</td>\n",
              "      <td>16072.0</td>\n",
              "      <td>44544.0</td>\n",
              "      <td>2.070312</td>\n",
              "      <td>182.6250</td>\n",
              "    </tr>\n",
              "    <tr>\n",
              "      <th>5</th>\n",
              "      <td>2012-04-01</td>\n",
              "      <td>9920.0</td>\n",
              "      <td>0.75</td>\n",
              "      <td>16208.0</td>\n",
              "      <td>44576.0</td>\n",
              "      <td>1.917969</td>\n",
              "      <td>173.2500</td>\n",
              "    </tr>\n",
              "    <tr>\n",
              "      <th>6</th>\n",
              "      <td>2012-07-01</td>\n",
              "      <td>10112.0</td>\n",
              "      <td>0.75</td>\n",
              "      <td>16320.0</td>\n",
              "      <td>44640.0</td>\n",
              "      <td>1.766602</td>\n",
              "      <td>171.0000</td>\n",
              "    </tr>\n",
              "    <tr>\n",
              "      <th>7</th>\n",
              "      <td>2012-10-01</td>\n",
              "      <td>10344.0</td>\n",
              "      <td>0.75</td>\n",
              "      <td>16416.0</td>\n",
              "      <td>44704.0</td>\n",
              "      <td>1.616211</td>\n",
              "      <td>170.7500</td>\n",
              "    </tr>\n",
              "    <tr>\n",
              "      <th>8</th>\n",
              "      <td>2013-01-01</td>\n",
              "      <td>10496.0</td>\n",
              "      <td>0.75</td>\n",
              "      <td>16624.0</td>\n",
              "      <td>44768.0</td>\n",
              "      <td>1.464844</td>\n",
              "      <td>174.1250</td>\n",
              "    </tr>\n",
              "    <tr>\n",
              "      <th>9</th>\n",
              "      <td>2013-04-01</td>\n",
              "      <td>10616.0</td>\n",
              "      <td>0.75</td>\n",
              "      <td>16704.0</td>\n",
              "      <td>45280.0</td>\n",
              "      <td>1.503906</td>\n",
              "      <td>166.7500</td>\n",
              "    </tr>\n",
              "    <tr>\n",
              "      <th>10</th>\n",
              "      <td>2013-07-01</td>\n",
              "      <td>10784.0</td>\n",
              "      <td>0.75</td>\n",
              "      <td>16912.0</td>\n",
              "      <td>45824.0</td>\n",
              "      <td>1.543945</td>\n",
              "      <td>168.2500</td>\n",
              "    </tr>\n",
              "    <tr>\n",
              "      <th>11</th>\n",
              "      <td>2013-10-01</td>\n",
              "      <td>10984.0</td>\n",
              "      <td>0.75</td>\n",
              "      <td>17136.0</td>\n",
              "      <td>46336.0</td>\n",
              "      <td>1.583008</td>\n",
              "      <td>166.1250</td>\n",
              "    </tr>\n",
              "    <tr>\n",
              "      <th>12</th>\n",
              "      <td>2014-01-01</td>\n",
              "      <td>11144.0</td>\n",
              "      <td>0.75</td>\n",
              "      <td>17152.0</td>\n",
              "      <td>46848.0</td>\n",
              "      <td>1.622070</td>\n",
              "      <td>169.1250</td>\n",
              "    </tr>\n",
              "    <tr>\n",
              "      <th>13</th>\n",
              "      <td>2014-04-01</td>\n",
              "      <td>11320.0</td>\n",
              "      <td>0.75</td>\n",
              "      <td>17456.0</td>\n",
              "      <td>47328.0</td>\n",
              "      <td>1.246094</td>\n",
              "      <td>169.6250</td>\n",
              "    </tr>\n",
              "    <tr>\n",
              "      <th>14</th>\n",
              "      <td>2014-07-01</td>\n",
              "      <td>11464.0</td>\n",
              "      <td>0.75</td>\n",
              "      <td>17744.0</td>\n",
              "      <td>47776.0</td>\n",
              "      <td>0.870605</td>\n",
              "      <td>160.2500</td>\n",
              "    </tr>\n",
              "    <tr>\n",
              "      <th>15</th>\n",
              "      <td>2014-10-01</td>\n",
              "      <td>11608.0</td>\n",
              "      <td>0.75</td>\n",
              "      <td>17856.0</td>\n",
              "      <td>48224.0</td>\n",
              "      <td>0.494629</td>\n",
              "      <td>137.3750</td>\n",
              "    </tr>\n",
              "    <tr>\n",
              "      <th>16</th>\n",
              "      <td>2015-01-01</td>\n",
              "      <td>11824.0</td>\n",
              "      <td>0.75</td>\n",
              "      <td>17984.0</td>\n",
              "      <td>48704.0</td>\n",
              "      <td>0.118652</td>\n",
              "      <td>115.1250</td>\n",
              "    </tr>\n",
              "    <tr>\n",
              "      <th>17</th>\n",
              "      <td>2015-04-01</td>\n",
              "      <td>11960.0</td>\n",
              "      <td>0.75</td>\n",
              "      <td>18192.0</td>\n",
              "      <td>48928.0</td>\n",
              "      <td>0.404297</td>\n",
              "      <td>116.6875</td>\n",
              "    </tr>\n",
              "    <tr>\n",
              "      <th>18</th>\n",
              "      <td>2015-07-01</td>\n",
              "      <td>12104.0</td>\n",
              "      <td>0.75</td>\n",
              "      <td>18304.0</td>\n",
              "      <td>49152.0</td>\n",
              "      <td>0.689941</td>\n",
              "      <td>104.8750</td>\n",
              "    </tr>\n",
              "    <tr>\n",
              "      <th>19</th>\n",
              "      <td>2015-10-01</td>\n",
              "      <td>12264.0</td>\n",
              "      <td>0.75</td>\n",
              "      <td>18336.0</td>\n",
              "      <td>49376.0</td>\n",
              "      <td>0.976074</td>\n",
              "      <td>96.4375</td>\n",
              "    </tr>\n",
              "    <tr>\n",
              "      <th>20</th>\n",
              "      <td>2016-01-01</td>\n",
              "      <td>12528.0</td>\n",
              "      <td>1.00</td>\n",
              "      <td>18432.0</td>\n",
              "      <td>49600.0</td>\n",
              "      <td>1.261719</td>\n",
              "      <td>88.7500</td>\n",
              "    </tr>\n",
              "    <tr>\n",
              "      <th>21</th>\n",
              "      <td>2016-04-01</td>\n",
              "      <td>12760.0</td>\n",
              "      <td>1.00</td>\n",
              "      <td>18608.0</td>\n",
              "      <td>50080.0</td>\n",
              "      <td>1.478516</td>\n",
              "      <td>100.1875</td>\n",
              "    </tr>\n",
              "    <tr>\n",
              "      <th>22</th>\n",
              "      <td>2016-07-01</td>\n",
              "      <td>12960.0</td>\n",
              "      <td>1.00</td>\n",
              "      <td>18768.0</td>\n",
              "      <td>50560.0</td>\n",
              "      <td>1.696289</td>\n",
              "      <td>103.1875</td>\n",
              "    </tr>\n",
              "    <tr>\n",
              "      <th>23</th>\n",
              "      <td>2016-10-01</td>\n",
              "      <td>13152.0</td>\n",
              "      <td>1.00</td>\n",
              "      <td>18976.0</td>\n",
              "      <td>51072.0</td>\n",
              "      <td>1.913086</td>\n",
              "      <td>107.8750</td>\n",
              "    </tr>\n",
              "    <tr>\n",
              "      <th>24</th>\n",
              "      <td>2017-01-01</td>\n",
              "      <td>13336.0</td>\n",
              "      <td>1.25</td>\n",
              "      <td>19152.0</td>\n",
              "      <td>51552.0</td>\n",
              "      <td>2.130859</td>\n",
              "      <td>114.3750</td>\n",
              "    </tr>\n",
              "    <tr>\n",
              "      <th>25</th>\n",
              "      <td>2017-04-01</td>\n",
              "      <td>13520.0</td>\n",
              "      <td>1.50</td>\n",
              "      <td>19328.0</td>\n",
              "      <td>52128.0</td>\n",
              "      <td>2.208984</td>\n",
              "      <td>108.5000</td>\n",
              "    </tr>\n",
              "    <tr>\n",
              "      <th>26</th>\n",
              "      <td>2017-07-01</td>\n",
              "      <td>13672.0</td>\n",
              "      <td>1.75</td>\n",
              "      <td>19552.0</td>\n",
              "      <td>52704.0</td>\n",
              "      <td>2.287109</td>\n",
              "      <td>111.5000</td>\n",
              "    </tr>\n",
              "    <tr>\n",
              "      <th>27</th>\n",
              "      <td>2017-10-01</td>\n",
              "      <td>13808.0</td>\n",
              "      <td>1.75</td>\n",
              "      <td>19888.0</td>\n",
              "      <td>53280.0</td>\n",
              "      <td>2.365234</td>\n",
              "      <td>119.8125</td>\n",
              "    </tr>\n",
              "    <tr>\n",
              "      <th>28</th>\n",
              "      <td>2018-01-01</td>\n",
              "      <td>13904.0</td>\n",
              "      <td>2.00</td>\n",
              "      <td>20144.0</td>\n",
              "      <td>53856.0</td>\n",
              "      <td>2.443359</td>\n",
              "      <td>127.6875</td>\n",
              "    </tr>\n",
              "    <tr>\n",
              "      <th>29</th>\n",
              "      <td>2018-04-01</td>\n",
              "      <td>14056.0</td>\n",
              "      <td>2.25</td>\n",
              "      <td>20496.0</td>\n",
              "      <td>54336.0</td>\n",
              "      <td>2.285156</td>\n",
              "      <td>131.1250</td>\n",
              "    </tr>\n",
              "    <tr>\n",
              "      <th>30</th>\n",
              "      <td>2018-07-01</td>\n",
              "      <td>14200.0</td>\n",
              "      <td>2.25</td>\n",
              "      <td>20656.0</td>\n",
              "      <td>54784.0</td>\n",
              "      <td>2.126953</td>\n",
              "      <td>130.2500</td>\n",
              "    </tr>\n",
              "    <tr>\n",
              "      <th>31</th>\n",
              "      <td>2018-10-01</td>\n",
              "      <td>14288.0</td>\n",
              "      <td>2.75</td>\n",
              "      <td>20816.0</td>\n",
              "      <td>55264.0</td>\n",
              "      <td>1.969727</td>\n",
              "      <td>123.7500</td>\n",
              "    </tr>\n",
              "    <tr>\n",
              "      <th>32</th>\n",
              "      <td>2019-01-01</td>\n",
              "      <td>14472.0</td>\n",
              "      <td>3.00</td>\n",
              "      <td>21008.0</td>\n",
              "      <td>55744.0</td>\n",
              "      <td>1.812500</td>\n",
              "      <td>118.6875</td>\n",
              "    </tr>\n",
              "    <tr>\n",
              "      <th>33</th>\n",
              "      <td>2019-04-01</td>\n",
              "      <td>14656.0</td>\n",
              "      <td>3.00</td>\n",
              "      <td>21296.0</td>\n",
              "      <td>56608.0</td>\n",
              "      <td>1.667969</td>\n",
              "      <td>119.8125</td>\n",
              "    </tr>\n",
              "    <tr>\n",
              "      <th>34</th>\n",
              "      <td>2019-07-01</td>\n",
              "      <td>14944.0</td>\n",
              "      <td>3.00</td>\n",
              "      <td>21504.0</td>\n",
              "      <td>57440.0</td>\n",
              "      <td>1.522461</td>\n",
              "      <td>115.1875</td>\n",
              "    </tr>\n",
              "    <tr>\n",
              "      <th>35</th>\n",
              "      <td>2019-10-01</td>\n",
              "      <td>15240.0</td>\n",
              "      <td>2.25</td>\n",
              "      <td>21696.0</td>\n",
              "      <td>58304.0</td>\n",
              "      <td>1.377930</td>\n",
              "      <td>116.6875</td>\n",
              "    </tr>\n",
              "    <tr>\n",
              "      <th>36</th>\n",
              "      <td>2020-01-01</td>\n",
              "      <td>15608.0</td>\n",
              "      <td>2.25</td>\n",
              "      <td>21488.0</td>\n",
              "      <td>59168.0</td>\n",
              "      <td>1.233398</td>\n",
              "      <td>108.0625</td>\n",
              "    </tr>\n",
              "    <tr>\n",
              "      <th>37</th>\n",
              "      <td>2020-04-01</td>\n",
              "      <td>17680.0</td>\n",
              "      <td>0.25</td>\n",
              "      <td>19472.0</td>\n",
              "      <td>60256.0</td>\n",
              "      <td>2.099609</td>\n",
              "      <td>91.7500</td>\n",
              "    </tr>\n",
              "    <tr>\n",
              "      <th>38</th>\n",
              "      <td>2020-07-01</td>\n",
              "      <td>18432.0</td>\n",
              "      <td>0.25</td>\n",
              "      <td>21136.0</td>\n",
              "      <td>61312.0</td>\n",
              "      <td>2.964844</td>\n",
              "      <td>106.7500</td>\n",
              "    </tr>\n",
              "    <tr>\n",
              "      <th>39</th>\n",
              "      <td>2020-10-01</td>\n",
              "      <td>18928.0</td>\n",
              "      <td>0.25</td>\n",
              "      <td>21472.0</td>\n",
              "      <td>62400.0</td>\n",
              "      <td>3.832031</td>\n",
              "      <td>117.1250</td>\n",
              "    </tr>\n",
              "  </tbody>\n",
              "</table>\n",
              "</div>\n",
              "      <button class=\"colab-df-convert\" onclick=\"convertToInteractive('df-fe8f5d67-e582-4888-8979-eff43546965d')\"\n",
              "              title=\"Convert this dataframe to an interactive table.\"\n",
              "              style=\"display:none;\">\n",
              "        \n",
              "  <svg xmlns=\"http://www.w3.org/2000/svg\" height=\"24px\"viewBox=\"0 0 24 24\"\n",
              "       width=\"24px\">\n",
              "    <path d=\"M0 0h24v24H0V0z\" fill=\"none\"/>\n",
              "    <path d=\"M18.56 5.44l.94 2.06.94-2.06 2.06-.94-2.06-.94-.94-2.06-.94 2.06-2.06.94zm-11 1L8.5 8.5l.94-2.06 2.06-.94-2.06-.94L8.5 2.5l-.94 2.06-2.06.94zm10 10l.94 2.06.94-2.06 2.06-.94-2.06-.94-.94-2.06-.94 2.06-2.06.94z\"/><path d=\"M17.41 7.96l-1.37-1.37c-.4-.4-.92-.59-1.43-.59-.52 0-1.04.2-1.43.59L10.3 9.45l-7.72 7.72c-.78.78-.78 2.05 0 2.83L4 21.41c.39.39.9.59 1.41.59.51 0 1.02-.2 1.41-.59l7.78-7.78 2.81-2.81c.8-.78.8-2.07 0-2.86zM5.41 20L4 18.59l7.72-7.72 1.47 1.35L5.41 20z\"/>\n",
              "  </svg>\n",
              "      </button>\n",
              "      \n",
              "  <style>\n",
              "    .colab-df-container {\n",
              "      display:flex;\n",
              "      flex-wrap:wrap;\n",
              "      gap: 12px;\n",
              "    }\n",
              "\n",
              "    .colab-df-convert {\n",
              "      background-color: #E8F0FE;\n",
              "      border: none;\n",
              "      border-radius: 50%;\n",
              "      cursor: pointer;\n",
              "      display: none;\n",
              "      fill: #1967D2;\n",
              "      height: 32px;\n",
              "      padding: 0 0 0 0;\n",
              "      width: 32px;\n",
              "    }\n",
              "\n",
              "    .colab-df-convert:hover {\n",
              "      background-color: #E2EBFA;\n",
              "      box-shadow: 0px 1px 2px rgba(60, 64, 67, 0.3), 0px 1px 3px 1px rgba(60, 64, 67, 0.15);\n",
              "      fill: #174EA6;\n",
              "    }\n",
              "\n",
              "    [theme=dark] .colab-df-convert {\n",
              "      background-color: #3B4455;\n",
              "      fill: #D2E3FC;\n",
              "    }\n",
              "\n",
              "    [theme=dark] .colab-df-convert:hover {\n",
              "      background-color: #434B5C;\n",
              "      box-shadow: 0px 1px 3px 1px rgba(0, 0, 0, 0.15);\n",
              "      filter: drop-shadow(0px 1px 2px rgba(0, 0, 0, 0.3));\n",
              "      fill: #FFFFFF;\n",
              "    }\n",
              "  </style>\n",
              "\n",
              "      <script>\n",
              "        const buttonEl =\n",
              "          document.querySelector('#df-fe8f5d67-e582-4888-8979-eff43546965d button.colab-df-convert');\n",
              "        buttonEl.style.display =\n",
              "          google.colab.kernel.accessAllowed ? 'block' : 'none';\n",
              "\n",
              "        async function convertToInteractive(key) {\n",
              "          const element = document.querySelector('#df-fe8f5d67-e582-4888-8979-eff43546965d');\n",
              "          const dataTable =\n",
              "            await google.colab.kernel.invokeFunction('convertToInteractive',\n",
              "                                                     [key], {});\n",
              "          if (!dataTable) return;\n",
              "\n",
              "          const docLinkHtml = 'Like what you see? Visit the ' +\n",
              "            '<a target=\"_blank\" href=https://colab.research.google.com/notebooks/data_table.ipynb>data table notebook</a>'\n",
              "            + ' to learn more about interactive tables.';\n",
              "          element.innerHTML = '';\n",
              "          dataTable['output_type'] = 'display_data';\n",
              "          await google.colab.output.renderOutput(dataTable, element);\n",
              "          const docLink = document.createElement('div');\n",
              "          docLink.innerHTML = docLinkHtml;\n",
              "          element.appendChild(docLink);\n",
              "        }\n",
              "      </script>\n",
              "    </div>\n",
              "  </div>\n",
              "  "
            ]
          },
          "metadata": {},
          "execution_count": 64
        }
      ]
    },
    {
      "cell_type": "code",
      "source": [
        "from sklearn.model_selection import train_test_split\n",
        "\n",
        "x = df[['Money Supply', 'Interest Rate', 'GDP', 'Personal Income', 'Commodity Index']]\n",
        "y = df[['Inflation Rate']]\n",
        "\n",
        "x_train, x_test, y_train, y_test = train_test_split(x, y, train_size=0.8, test_size=0.2)"
      ],
      "metadata": {
        "id": "3RITOWwoqjMU"
      },
      "execution_count": null,
      "outputs": []
    },
    {
      "cell_type": "code",
      "source": [
        "x_train.shape, x_test.shape, y_train.shape, y_test.shape"
      ],
      "metadata": {
        "colab": {
          "base_uri": "https://localhost:8080/"
        },
        "id": "lygIGtQyi1ED",
        "outputId": "a4a8b615-61da-4aa3-8a0b-e13903277c2d"
      },
      "execution_count": null,
      "outputs": [
        {
          "output_type": "execute_result",
          "data": {
            "text/plain": [
              "((32, 5), (8, 5), (32, 1), (8, 1))"
            ]
          },
          "metadata": {},
          "execution_count": 66
        }
      ]
    },
    {
      "cell_type": "code",
      "source": [
        "x_train = x_train.reset_index(drop=True)\n",
        "x_test = x_test.reset_index(drop=True)\n",
        "y_train = y_train.reset_index(drop=True)\n",
        "y_test = y_test.reset_index(drop=True)"
      ],
      "metadata": {
        "id": "dujID_hzqGSD"
      },
      "execution_count": null,
      "outputs": []
    },
    {
      "cell_type": "markdown",
      "source": [
        "### Regression"
      ],
      "metadata": {
        "id": "dusl326uqzT9"
      }
    },
    {
      "cell_type": "code",
      "source": [
        "from tensorflow.keras.models import Sequential\n",
        "from tensorflow.keras.layers import Dense\n",
        "from tensorflow.keras.callbacks import ModelCheckpoint, EarlyStopping\n",
        "\n",
        "model = Sequential()\n",
        "model.add(Dense(10, input_dim=x_train.shape[1], activation='relu'))\n",
        "model.add(Dense(30, activation='relu'))\n",
        "model.add(Dense(40, activation='relu'))\n",
        "model.add(Dense(1))\n",
        "model.summary()"
      ],
      "metadata": {
        "colab": {
          "base_uri": "https://localhost:8080/"
        },
        "id": "nvmY1zzve0KG",
        "outputId": "aa474f28-3ad5-4af6-be71-aa490254c1ce"
      },
      "execution_count": null,
      "outputs": [
        {
          "output_type": "stream",
          "name": "stdout",
          "text": [
            "Model: \"sequential_2\"\n",
            "_________________________________________________________________\n",
            " Layer (type)                Output Shape              Param #   \n",
            "=================================================================\n",
            " dense_8 (Dense)             (None, 10)                60        \n",
            "                                                                 \n",
            " dense_9 (Dense)             (None, 30)                330       \n",
            "                                                                 \n",
            " dense_10 (Dense)            (None, 40)                1240      \n",
            "                                                                 \n",
            " dense_11 (Dense)            (None, 1)                 41        \n",
            "                                                                 \n",
            "=================================================================\n",
            "Total params: 1,671\n",
            "Trainable params: 1,671\n",
            "Non-trainable params: 0\n",
            "_________________________________________________________________\n"
          ]
        }
      ]
    },
    {
      "cell_type": "code",
      "source": [
        "model.compile(optimizer='adam', loss='mean_squared_error')\n",
        "\n",
        "es_callback = EarlyStopping(monitor='val_loss', patience=60)\n",
        "\n",
        "checkerpointer = ModelCheckpoint('inflation_best_model.h5', monitor='val_loss', mode='min', verbose = 0, save_best_only=True)\n",
        "\n",
        "history = model.fit(x_train, y_train, validation_split=0.25, epochs=1000,batch_size=24, callbacks=[es_callback, checkerpointer])"
      ],
      "metadata": {
        "colab": {
          "base_uri": "https://localhost:8080/"
        },
        "id": "KztRJ5Rsq1QH",
        "outputId": "08daaaf2-f071-4091-cc81-579b0d2415d6"
      },
      "execution_count": null,
      "outputs": [
        {
          "output_type": "stream",
          "name": "stdout",
          "text": [
            "Epoch 1/1000\n",
            "1/1 [==============================] - 1s 536ms/step - loss: 89602080.0000 - val_loss: 78132752.0000\n",
            "Epoch 2/1000\n",
            "1/1 [==============================] - 0s 47ms/step - loss: 72399936.0000 - val_loss: 61706384.0000\n",
            "Epoch 3/1000\n",
            "1/1 [==============================] - 0s 58ms/step - loss: 57211516.0000 - val_loss: 47390288.0000\n",
            "Epoch 4/1000\n",
            "1/1 [==============================] - 0s 50ms/step - loss: 43997164.0000 - val_loss: 35229980.0000\n",
            "Epoch 5/1000\n",
            "1/1 [==============================] - 0s 52ms/step - loss: 32773206.0000 - val_loss: 25107134.0000\n",
            "Epoch 6/1000\n",
            "1/1 [==============================] - 0s 58ms/step - loss: 23396130.0000 - val_loss: 16915296.0000\n",
            "Epoch 7/1000\n",
            "1/1 [==============================] - 0s 50ms/step - loss: 15793784.0000 - val_loss: 10540167.0000\n",
            "Epoch 8/1000\n",
            "1/1 [==============================] - 0s 49ms/step - loss: 9870379.0000 - val_loss: 5845085.0000\n",
            "Epoch 9/1000\n",
            "1/1 [==============================] - 0s 50ms/step - loss: 5499934.0000 - val_loss: 2664771.0000\n",
            "Epoch 10/1000\n",
            "1/1 [==============================] - 0s 49ms/step - loss: 2530090.7500 - val_loss: 810994.7500\n",
            "Epoch 11/1000\n",
            "1/1 [==============================] - 0s 49ms/step - loss: 790720.9375 - val_loss: 57105.6133\n",
            "Epoch 12/1000\n",
            "1/1 [==============================] - 0s 28ms/step - loss: 65289.9375 - val_loss: 144081.2500\n",
            "Epoch 13/1000\n",
            "1/1 [==============================] - 0s 29ms/step - loss: 112165.1016 - val_loss: 832823.5000\n",
            "Epoch 14/1000\n",
            "1/1 [==============================] - 0s 30ms/step - loss: 715916.3125 - val_loss: 1887230.2500\n",
            "Epoch 15/1000\n",
            "1/1 [==============================] - 0s 30ms/step - loss: 1659815.6250 - val_loss: 3061485.0000\n",
            "Epoch 16/1000\n",
            "1/1 [==============================] - 0s 29ms/step - loss: 2735923.2500 - val_loss: 4180232.5000\n",
            "Epoch 17/1000\n",
            "1/1 [==============================] - 0s 27ms/step - loss: 3767936.0000 - val_loss: 5085340.0000\n",
            "Epoch 18/1000\n",
            "1/1 [==============================] - 0s 35ms/step - loss: 4604389.5000 - val_loss: 5716264.0000\n",
            "Epoch 19/1000\n",
            "1/1 [==============================] - 0s 31ms/step - loss: 5187370.5000 - val_loss: 6047350.5000\n",
            "Epoch 20/1000\n",
            "1/1 [==============================] - 0s 32ms/step - loss: 5491509.5000 - val_loss: 6081700.0000\n",
            "Epoch 21/1000\n",
            "1/1 [==============================] - 0s 28ms/step - loss: 5525975.5000 - val_loss: 5857459.0000\n",
            "Epoch 22/1000\n",
            "1/1 [==============================] - 0s 32ms/step - loss: 5324336.0000 - val_loss: 5427506.5000\n",
            "Epoch 23/1000\n",
            "1/1 [==============================] - 0s 30ms/step - loss: 4932566.5000 - val_loss: 4837660.0000\n",
            "Epoch 24/1000\n",
            "1/1 [==============================] - 0s 31ms/step - loss: 4392438.0000 - val_loss: 4143795.2500\n",
            "Epoch 25/1000\n",
            "1/1 [==============================] - 0s 31ms/step - loss: 3757417.2500 - val_loss: 3403800.7500\n",
            "Epoch 26/1000\n",
            "1/1 [==============================] - 0s 32ms/step - loss: 3080711.2500 - val_loss: 2669731.2500\n",
            "Epoch 27/1000\n",
            "1/1 [==============================] - 0s 32ms/step - loss: 2410161.2500 - val_loss: 1984904.8750\n",
            "Epoch 28/1000\n",
            "1/1 [==============================] - 0s 38ms/step - loss: 1785551.6250 - val_loss: 1382211.0000\n",
            "Epoch 29/1000\n",
            "1/1 [==============================] - 0s 34ms/step - loss: 1237044.8750 - val_loss: 883446.9375\n",
            "Epoch 30/1000\n",
            "1/1 [==============================] - 0s 31ms/step - loss: 784583.1875 - val_loss: 499535.6875\n",
            "Epoch 31/1000\n",
            "1/1 [==============================] - 0s 34ms/step - loss: 438083.4688 - val_loss: 231493.5156\n",
            "Epoch 32/1000\n",
            "1/1 [==============================] - 0s 47ms/step - loss: 198324.5781 - val_loss: 71908.3359\n",
            "Epoch 33/1000\n",
            "1/1 [==============================] - 0s 54ms/step - loss: 58326.9180 - val_loss: 6822.8887\n",
            "Epoch 34/1000\n",
            "1/1 [==============================] - 0s 34ms/step - loss: 5083.5034 - val_loss: 17812.0137\n",
            "Epoch 35/1000\n",
            "1/1 [==============================] - 0s 37ms/step - loss: 21480.7461 - val_loss: 84083.9062\n",
            "Epoch 36/1000\n",
            "1/1 [==============================] - 0s 33ms/step - loss: 88238.6875 - val_loss: 184453.0000\n",
            "Epoch 37/1000\n",
            "1/1 [==============================] - 0s 31ms/step - loss: 185734.6250 - val_loss: 299058.6875\n",
            "Epoch 38/1000\n",
            "1/1 [==============================] - 0s 33ms/step - loss: 295588.2500 - val_loss: 410718.3125\n",
            "Epoch 39/1000\n",
            "1/1 [==============================] - 0s 32ms/step - loss: 401912.7500 - val_loss: 505877.4375\n",
            "Epoch 40/1000\n",
            "1/1 [==============================] - 0s 34ms/step - loss: 492186.2500 - val_loss: 575100.8750\n",
            "Epoch 41/1000\n",
            "1/1 [==============================] - 0s 30ms/step - loss: 557713.5625 - val_loss: 613176.1250\n",
            "Epoch 42/1000\n",
            "1/1 [==============================] - 0s 30ms/step - loss: 593711.3125 - val_loss: 618847.2500\n",
            "Epoch 43/1000\n",
            "1/1 [==============================] - 0s 33ms/step - loss: 599065.2500 - val_loss: 594247.1250\n",
            "Epoch 44/1000\n",
            "1/1 [==============================] - 0s 37ms/step - loss: 575801.7500 - val_loss: 544145.1250\n",
            "Epoch 45/1000\n",
            "1/1 [==============================] - 0s 33ms/step - loss: 528394.9375 - val_loss: 475088.5000\n",
            "Epoch 46/1000\n",
            "1/1 [==============================] - 0s 33ms/step - loss: 462964.7812 - val_loss: 394517.9375\n",
            "Epoch 47/1000\n",
            "1/1 [==============================] - 0s 37ms/step - loss: 386466.7188 - val_loss: 309942.1250\n",
            "Epoch 48/1000\n",
            "1/1 [==============================] - 0s 40ms/step - loss: 305918.0938 - val_loss: 228228.2188\n",
            "Epoch 49/1000\n",
            "1/1 [==============================] - 0s 33ms/step - loss: 227749.2969 - val_loss: 155059.4844\n",
            "Epoch 50/1000\n",
            "1/1 [==============================] - 0s 32ms/step - loss: 157295.2031 - val_loss: 94575.0469\n",
            "Epoch 51/1000\n",
            "1/1 [==============================] - 0s 32ms/step - loss: 98464.6641 - val_loss: 49202.4805\n",
            "Epoch 52/1000\n",
            "1/1 [==============================] - 0s 36ms/step - loss: 53578.9375 - val_loss: 19668.7344\n",
            "Epoch 53/1000\n",
            "1/1 [==============================] - 0s 51ms/step - loss: 23385.4355 - val_loss: 5172.8042\n",
            "Epoch 54/1000\n",
            "1/1 [==============================] - 0s 56ms/step - loss: 7212.8101 - val_loss: 3677.1431\n",
            "Epoch 55/1000\n",
            "1/1 [==============================] - 0s 32ms/step - loss: 3240.0332 - val_loss: 12279.3193\n",
            "Epoch 56/1000\n",
            "1/1 [==============================] - 0s 34ms/step - loss: 8837.8252 - val_loss: 27615.3223\n",
            "Epoch 57/1000\n",
            "1/1 [==============================] - 0s 36ms/step - loss: 20940.9355 - val_loss: 46253.8984\n",
            "Epoch 58/1000\n",
            "1/1 [==============================] - 0s 39ms/step - loss: 36411.5781 - val_loss: 65042.8281\n",
            "Epoch 59/1000\n",
            "1/1 [==============================] - 0s 33ms/step - loss: 52358.5195 - val_loss: 81377.1719\n",
            "Epoch 60/1000\n",
            "1/1 [==============================] - 0s 32ms/step - loss: 66386.6328 - val_loss: 93377.6250\n",
            "Epoch 61/1000\n",
            "1/1 [==============================] - 0s 31ms/step - loss: 76759.3125 - val_loss: 99963.2812\n",
            "Epoch 62/1000\n",
            "1/1 [==============================] - 0s 33ms/step - loss: 82469.5000 - val_loss: 100837.2344\n",
            "Epoch 63/1000\n",
            "1/1 [==============================] - 0s 31ms/step - loss: 83223.7422 - val_loss: 96385.7344\n",
            "Epoch 64/1000\n",
            "1/1 [==============================] - 0s 32ms/step - loss: 79353.5469 - val_loss: 87529.3984\n",
            "Epoch 65/1000\n",
            "1/1 [==============================] - 0s 30ms/step - loss: 71676.8438 - val_loss: 75532.6406\n",
            "Epoch 66/1000\n",
            "1/1 [==============================] - 0s 31ms/step - loss: 61324.4805 - val_loss: 61813.5234\n",
            "Epoch 67/1000\n",
            "1/1 [==============================] - 0s 35ms/step - loss: 49566.0195 - val_loss: 47760.8359\n",
            "Epoch 68/1000\n",
            "1/1 [==============================] - 0s 41ms/step - loss: 37640.9219 - val_loss: 34589.0352\n",
            "Epoch 69/1000\n",
            "1/1 [==============================] - 0s 33ms/step - loss: 26628.2656 - val_loss: 23232.2441\n",
            "Epoch 70/1000\n",
            "1/1 [==============================] - 0s 30ms/step - loss: 17347.8965 - val_loss: 14287.8857\n",
            "Epoch 71/1000\n",
            "1/1 [==============================] - 0s 34ms/step - loss: 10310.9639 - val_loss: 8005.8027\n",
            "Epoch 72/1000\n",
            "1/1 [==============================] - 0s 32ms/step - loss: 5710.3530 - val_loss: 4318.6895\n",
            "Epoch 73/1000\n",
            "1/1 [==============================] - 0s 62ms/step - loss: 3449.8035 - val_loss: 2902.9590\n",
            "Epoch 74/1000\n",
            "1/1 [==============================] - 0s 32ms/step - loss: 3200.7488 - val_loss: 3258.2034\n",
            "Epoch 75/1000\n",
            "1/1 [==============================] - 0s 30ms/step - loss: 4476.4790 - val_loss: 4794.4092\n",
            "Epoch 76/1000\n",
            "1/1 [==============================] - 0s 33ms/step - loss: 6712.7280 - val_loss: 6914.4082\n",
            "Epoch 77/1000\n",
            "1/1 [==============================] - 0s 31ms/step - loss: 9344.2656 - val_loss: 9084.1445\n",
            "Epoch 78/1000\n",
            "1/1 [==============================] - 0s 34ms/step - loss: 11869.5078 - val_loss: 10882.9824\n",
            "Epoch 79/1000\n",
            "1/1 [==============================] - 0s 31ms/step - loss: 13897.0029 - val_loss: 12033.4180\n",
            "Epoch 80/1000\n",
            "1/1 [==============================] - 0s 29ms/step - loss: 15172.3867 - val_loss: 12407.5518\n",
            "Epoch 81/1000\n",
            "1/1 [==============================] - 0s 33ms/step - loss: 15584.6611 - val_loss: 12016.7578\n",
            "Epoch 82/1000\n",
            "1/1 [==============================] - 0s 29ms/step - loss: 15154.7227 - val_loss: 10983.0918\n",
            "Epoch 83/1000\n",
            "1/1 [==============================] - 0s 36ms/step - loss: 14009.1250 - val_loss: 9504.2656\n",
            "Epoch 84/1000\n",
            "1/1 [==============================] - 0s 30ms/step - loss: 12347.7490 - val_loss: 7814.9199\n",
            "Epoch 85/1000\n",
            "1/1 [==============================] - 0s 34ms/step - loss: 10405.4346 - val_loss: 6147.7412\n",
            "Epoch 86/1000\n",
            "1/1 [==============================] - 0s 34ms/step - loss: 8417.6807 - val_loss: 4703.6562\n",
            "Epoch 87/1000\n",
            "1/1 [==============================] - 0s 33ms/step - loss: 6590.1001 - val_loss: 3628.6948\n",
            "Epoch 88/1000\n",
            "1/1 [==============================] - 0s 30ms/step - loss: 5077.8867 - val_loss: 3002.7480\n",
            "Epoch 89/1000\n",
            "1/1 [==============================] - 0s 55ms/step - loss: 3974.3516 - val_loss: 2838.2056\n",
            "Epoch 90/1000\n",
            "1/1 [==============================] - 0s 31ms/step - loss: 3309.0947 - val_loss: 3087.7693\n",
            "Epoch 91/1000\n",
            "1/1 [==============================] - 0s 33ms/step - loss: 3054.4045 - val_loss: 3658.1357\n",
            "Epoch 92/1000\n",
            "1/1 [==============================] - 0s 33ms/step - loss: 3138.1711 - val_loss: 4428.6157\n",
            "Epoch 93/1000\n",
            "1/1 [==============================] - 0s 33ms/step - loss: 3460.1887 - val_loss: 5269.9072\n",
            "Epoch 94/1000\n",
            "1/1 [==============================] - 0s 33ms/step - loss: 3909.6140 - val_loss: 6061.0928\n",
            "Epoch 95/1000\n",
            "1/1 [==============================] - 0s 32ms/step - loss: 4380.5972 - val_loss: 6704.0562\n",
            "Epoch 96/1000\n",
            "1/1 [==============================] - 0s 33ms/step - loss: 4785.3618 - val_loss: 7131.7852\n",
            "Epoch 97/1000\n",
            "1/1 [==============================] - 0s 34ms/step - loss: 5062.1821 - val_loss: 7311.9424\n",
            "Epoch 98/1000\n",
            "1/1 [==============================] - 0s 34ms/step - loss: 5179.1021 - val_loss: 7245.4102\n",
            "Epoch 99/1000\n",
            "1/1 [==============================] - 0s 37ms/step - loss: 5132.5454 - val_loss: 6961.7393\n",
            "Epoch 100/1000\n",
            "1/1 [==============================] - 0s 39ms/step - loss: 4943.3237 - val_loss: 6510.5693\n",
            "Epoch 101/1000\n",
            "1/1 [==============================] - 0s 32ms/step - loss: 4649.3804 - val_loss: 5951.9121\n",
            "Epoch 102/1000\n",
            "1/1 [==============================] - 0s 35ms/step - loss: 4297.2476 - val_loss: 5347.7021\n",
            "Epoch 103/1000\n",
            "1/1 [==============================] - 0s 39ms/step - loss: 3934.4978 - val_loss: 4754.1851\n",
            "Epoch 104/1000\n",
            "1/1 [==============================] - 0s 30ms/step - loss: 3602.9795 - val_loss: 4215.6455\n",
            "Epoch 105/1000\n",
            "1/1 [==============================] - 0s 31ms/step - loss: 3333.6953 - val_loss: 3761.4858\n",
            "Epoch 106/1000\n",
            "1/1 [==============================] - 0s 31ms/step - loss: 3144.4902 - val_loss: 3406.0830\n",
            "Epoch 107/1000\n",
            "1/1 [==============================] - 0s 34ms/step - loss: 3039.7834 - val_loss: 3149.7302\n",
            "Epoch 108/1000\n",
            "1/1 [==============================] - 0s 36ms/step - loss: 3012.0574 - val_loss: 2981.7358\n",
            "Epoch 109/1000\n",
            "1/1 [==============================] - 0s 36ms/step - loss: 3045.0344 - val_loss: 2884.5918\n",
            "Epoch 110/1000\n",
            "1/1 [==============================] - 0s 51ms/step - loss: 3117.1917 - val_loss: 2837.8752\n",
            "Epoch 111/1000\n",
            "1/1 [==============================] - 0s 51ms/step - loss: 3205.9395 - val_loss: 2821.7854\n",
            "Epoch 112/1000\n",
            "1/1 [==============================] - 0s 49ms/step - loss: 3290.7654 - val_loss: 2820.2019\n",
            "Epoch 113/1000\n",
            "1/1 [==============================] - 0s 42ms/step - loss: 3355.6765 - val_loss: 2822.0479\n",
            "Epoch 114/1000\n",
            "1/1 [==============================] - 0s 29ms/step - loss: 3390.9309 - val_loss: 2821.7847\n",
            "Epoch 115/1000\n",
            "1/1 [==============================] - 0s 54ms/step - loss: 3393.0178 - val_loss: 2819.0410\n",
            "Epoch 116/1000\n",
            "1/1 [==============================] - 0s 54ms/step - loss: 3364.3171 - val_loss: 2817.2842\n",
            "Epoch 117/1000\n",
            "1/1 [==============================] - 0s 40ms/step - loss: 3311.4988 - val_loss: 2822.0632\n",
            "Epoch 118/1000\n",
            "1/1 [==============================] - 0s 32ms/step - loss: 3243.9023 - val_loss: 2839.1860\n",
            "Epoch 119/1000\n",
            "1/1 [==============================] - 0s 34ms/step - loss: 3171.5247 - val_loss: 2873.4634\n",
            "Epoch 120/1000\n",
            "1/1 [==============================] - 0s 33ms/step - loss: 3103.6816 - val_loss: 2927.4084\n",
            "Epoch 121/1000\n",
            "1/1 [==============================] - 0s 30ms/step - loss: 3047.4417 - val_loss: 3000.3918\n",
            "Epoch 122/1000\n",
            "1/1 [==============================] - 0s 29ms/step - loss: 3007.1260 - val_loss: 3089.3032\n",
            "Epoch 123/1000\n",
            "1/1 [==============================] - 0s 33ms/step - loss: 2984.0527 - val_loss: 3188.3489\n",
            "Epoch 124/1000\n",
            "1/1 [==============================] - 0s 30ms/step - loss: 2976.8311 - val_loss: 3290.3408\n",
            "Epoch 125/1000\n",
            "1/1 [==============================] - 0s 36ms/step - loss: 2982.1531 - val_loss: 3387.5447\n",
            "Epoch 126/1000\n",
            "1/1 [==============================] - 0s 29ms/step - loss: 2995.3621 - val_loss: 3472.6265\n",
            "Epoch 127/1000\n",
            "1/1 [==============================] - 0s 30ms/step - loss: 3011.6943 - val_loss: 3539.6621\n",
            "Epoch 128/1000\n",
            "1/1 [==============================] - 0s 37ms/step - loss: 3026.7654 - val_loss: 3584.6826\n",
            "Epoch 129/1000\n",
            "1/1 [==============================] - 0s 30ms/step - loss: 3037.2625 - val_loss: 3605.6611\n",
            "Epoch 130/1000\n",
            "1/1 [==============================] - 0s 37ms/step - loss: 3041.2703 - val_loss: 3603.2212\n",
            "Epoch 131/1000\n",
            "1/1 [==============================] - 0s 34ms/step - loss: 3038.2756 - val_loss: 3579.6736\n",
            "Epoch 132/1000\n",
            "1/1 [==============================] - 0s 29ms/step - loss: 3029.0605 - val_loss: 3538.7363\n",
            "Epoch 133/1000\n",
            "1/1 [==============================] - 0s 32ms/step - loss: 3015.3074 - val_loss: 3484.9751\n",
            "Epoch 134/1000\n",
            "1/1 [==============================] - 0s 39ms/step - loss: 2999.0344 - val_loss: 3423.3911\n",
            "Epoch 135/1000\n",
            "1/1 [==============================] - 0s 33ms/step - loss: 2982.5352 - val_loss: 3358.6748\n",
            "Epoch 136/1000\n",
            "1/1 [==============================] - 0s 29ms/step - loss: 2967.6426 - val_loss: 3294.7009\n",
            "Epoch 137/1000\n",
            "1/1 [==============================] - 0s 31ms/step - loss: 2955.6970 - val_loss: 3234.8633\n",
            "Epoch 138/1000\n",
            "1/1 [==============================] - 0s 29ms/step - loss: 2947.3479 - val_loss: 3181.2329\n",
            "Epoch 139/1000\n",
            "1/1 [==============================] - 0s 31ms/step - loss: 2942.5803 - val_loss: 3135.1465\n",
            "Epoch 140/1000\n",
            "1/1 [==============================] - 0s 34ms/step - loss: 2940.8770 - val_loss: 3097.4226\n",
            "Epoch 141/1000\n",
            "1/1 [==============================] - 0s 36ms/step - loss: 2941.3157 - val_loss: 3067.8870\n",
            "Epoch 142/1000\n",
            "1/1 [==============================] - 0s 30ms/step - loss: 2942.8015 - val_loss: 3046.2439\n",
            "Epoch 143/1000\n",
            "1/1 [==============================] - 0s 38ms/step - loss: 2944.2803 - val_loss: 3032.0542\n",
            "Epoch 144/1000\n",
            "1/1 [==============================] - 0s 33ms/step - loss: 2945.0027 - val_loss: 3024.6011\n",
            "Epoch 145/1000\n",
            "1/1 [==============================] - 0s 31ms/step - loss: 2944.3645 - val_loss: 3023.4731\n",
            "Epoch 146/1000\n",
            "1/1 [==============================] - 0s 30ms/step - loss: 2942.1946 - val_loss: 3027.9766\n",
            "Epoch 147/1000\n",
            "1/1 [==============================] - 0s 29ms/step - loss: 2938.5930 - val_loss: 3037.5691\n",
            "Epoch 148/1000\n",
            "1/1 [==============================] - 0s 48ms/step - loss: 2933.9011 - val_loss: 3051.6067\n",
            "Epoch 149/1000\n",
            "1/1 [==============================] - 0s 40ms/step - loss: 2928.5676 - val_loss: 3069.4138\n",
            "Epoch 150/1000\n",
            "1/1 [==============================] - 0s 32ms/step - loss: 2923.1331 - val_loss: 3090.2100\n",
            "Epoch 151/1000\n",
            "1/1 [==============================] - 0s 33ms/step - loss: 2917.9915 - val_loss: 3112.8757\n",
            "Epoch 152/1000\n",
            "1/1 [==============================] - 0s 47ms/step - loss: 2913.4875 - val_loss: 3136.5505\n",
            "Epoch 153/1000\n",
            "1/1 [==============================] - 0s 30ms/step - loss: 2909.7393 - val_loss: 3159.7544\n",
            "Epoch 154/1000\n",
            "1/1 [==============================] - 0s 30ms/step - loss: 2906.8254 - val_loss: 3181.8135\n",
            "Epoch 155/1000\n",
            "1/1 [==============================] - 0s 36ms/step - loss: 2904.5598 - val_loss: 3201.3672\n",
            "Epoch 156/1000\n",
            "1/1 [==============================] - 0s 34ms/step - loss: 2902.7766 - val_loss: 3217.6802\n",
            "Epoch 157/1000\n",
            "1/1 [==============================] - 0s 31ms/step - loss: 2901.1875 - val_loss: 3230.0095\n",
            "Epoch 158/1000\n",
            "1/1 [==============================] - 0s 31ms/step - loss: 2899.5781 - val_loss: 3238.1035\n",
            "Epoch 159/1000\n",
            "1/1 [==============================] - 0s 38ms/step - loss: 2897.7725 - val_loss: 3241.7576\n",
            "Epoch 160/1000\n",
            "1/1 [==============================] - 0s 39ms/step - loss: 2895.6377 - val_loss: 3241.2275\n",
            "Epoch 161/1000\n",
            "1/1 [==============================] - 0s 33ms/step - loss: 2893.1545 - val_loss: 3236.8862\n",
            "Epoch 162/1000\n",
            "1/1 [==============================] - 0s 32ms/step - loss: 2890.3528 - val_loss: 3229.3867\n",
            "Epoch 163/1000\n",
            "1/1 [==============================] - 0s 36ms/step - loss: 2887.3230 - val_loss: 3219.2820\n",
            "Epoch 164/1000\n",
            "1/1 [==============================] - 0s 30ms/step - loss: 2884.1719 - val_loss: 3207.5149\n",
            "Epoch 165/1000\n",
            "1/1 [==============================] - 0s 35ms/step - loss: 2881.0312 - val_loss: 3194.7578\n",
            "Epoch 166/1000\n",
            "1/1 [==============================] - 0s 34ms/step - loss: 2877.9446 - val_loss: 3181.7153\n",
            "Epoch 167/1000\n",
            "1/1 [==============================] - 0s 38ms/step - loss: 2875.0449 - val_loss: 3169.1775\n",
            "Epoch 168/1000\n",
            "1/1 [==============================] - 0s 31ms/step - loss: 2872.3464 - val_loss: 3157.5073\n",
            "Epoch 169/1000\n",
            "1/1 [==============================] - 0s 34ms/step - loss: 2869.7898 - val_loss: 3147.2434\n",
            "Epoch 170/1000\n",
            "1/1 [==============================] - 0s 34ms/step - loss: 2867.3655 - val_loss: 3138.5852\n",
            "Epoch 171/1000\n",
            "1/1 [==============================] - 0s 30ms/step - loss: 2864.9988 - val_loss: 3131.8960\n",
            "Epoch 172/1000\n",
            "1/1 [==============================] - 0s 31ms/step - loss: 2862.6943 - val_loss: 3127.0830\n",
            "Epoch 173/1000\n",
            "1/1 [==============================] - 0s 36ms/step - loss: 2860.3398 - val_loss: 3124.2981\n",
            "Epoch 174/1000\n",
            "1/1 [==============================] - 0s 35ms/step - loss: 2857.9480 - val_loss: 3123.3789\n",
            "Epoch 175/1000\n",
            "1/1 [==============================] - 0s 35ms/step - loss: 2855.4226 - val_loss: 3124.1904\n",
            "Epoch 176/1000\n",
            "1/1 [==============================] - 0s 40ms/step - loss: 2852.8418 - val_loss: 3126.4678\n"
          ]
        }
      ]
    },
    {
      "cell_type": "code",
      "source": [
        "test_loss = model.evaluate(x_test, y_test)\n",
        "test_loss"
      ],
      "metadata": {
        "colab": {
          "base_uri": "https://localhost:8080/"
        },
        "id": "TsM6qiIeZYV7",
        "outputId": "755ad793-e92a-45a9-e68b-1255584eba1a"
      },
      "execution_count": null,
      "outputs": [
        {
          "output_type": "stream",
          "name": "stdout",
          "text": [
            "1/1 [==============================] - 0s 20ms/step - loss: 2109.5439\n"
          ]
        },
        {
          "output_type": "execute_result",
          "data": {
            "text/plain": [
              "2109.5439453125"
            ]
          },
          "metadata": {},
          "execution_count": 70
        }
      ]
    },
    {
      "cell_type": "code",
      "source": [
        "loss = history.history['loss']\n",
        "val_loss = history.history['val_loss']\n",
        "\n",
        "epochs = range(len(loss))\n",
        "\n",
        "plt.plot(epochs, loss, 'bo', label='Training loss')\n",
        "plt.plot(epochs, val_loss, 'b', label='Validation loss')\n",
        "plt.title('Training and validation loss')\n",
        "plt.legend()\n",
        "\n",
        "plt.show()"
      ],
      "metadata": {
        "colab": {
          "base_uri": "https://localhost:8080/",
          "height": 281
        },
        "id": "Ka8A6xKBa7GR",
        "outputId": "2ac1737e-b4fb-4f30-c36e-b38c2ba9c7ec"
      },
      "execution_count": null,
      "outputs": [
        {
          "output_type": "display_data",
          "data": {
            "text/plain": [
              "<Figure size 432x288 with 1 Axes>"
            ],
            "image/png": "[encoded data removed]"
          },
          "metadata": {}
        }
      ]
    },
    {
      "cell_type": "markdown",
      "source": [
        "### Polynomial Features"
      ],
      "metadata": {
        "id": "CqVqWxPzgMDA"
      }
    },
    {
      "cell_type": "markdown",
      "source": [
        "https://colab.research.google.com/drive/19FhmhVLSNfNVXNKdwko4pZoldsdvIzAZ#scrollTo=PG7G6dB_FrWT"
      ],
      "metadata": {
        "id": "rfxfJudDjI9b"
      }
    },
    {
      "cell_type": "code",
      "source": [
        "from sklearn.preprocessing import PolynomialFeatures\n",
        "from sklearn.pipeline import make_pipeline\n",
        "from sklearn.preprocessing import StandardScaler\n",
        "from sklearn.linear_model import ElasticNet"
      ],
      "metadata": {
        "id": "ukRGBaob6asC"
      },
      "execution_count": null,
      "outputs": []
    },
    {
      "cell_type": "code",
      "source": [
        "poly = PolynomialFeatures(degree=2, include_bias=False)"
      ],
      "metadata": {
        "id": "wsLIhztz6Zau"
      },
      "execution_count": null,
      "outputs": []
    },
    {
      "cell_type": "code",
      "source": [
        "poly_features = poly.fit_transform(x_train)[0]"
      ],
      "metadata": {
        "id": "wlQjuY-X6X5O"
      },
      "execution_count": null,
      "outputs": []
    },
    {
      "cell_type": "code",
      "source": [
        "poly_pipeline = make_pipeline(\n",
        "    PolynomialFeatures(degree=2, include_bias=False),\n",
        "    StandardScaler(),\n",
        "    ElasticNet(alpha=0.1, l1_ratio=0.2)\n",
        ")"
      ],
      "metadata": {
        "id": "5PxZOCs16VJh"
      },
      "execution_count": null,
      "outputs": []
    },
    {
      "cell_type": "code",
      "source": [
        "poly_pred = poly_pipeline.fit(x_train, y_train).predict(x_test)"
      ],
      "metadata": {
        "id": "_tMNf_UB6THg"
      },
      "execution_count": null,
      "outputs": []
    },
    {
      "cell_type": "code",
      "source": [
        "mse_eval('Poly ElasticNet', poly_pred, y_test)"
      ],
      "metadata": {
        "colab": {
          "base_uri": "https://localhost:8080/",
          "height": 174
        },
        "id": "qa5n1P6n54PS",
        "outputId": "3f161da7-ecdc-4248-e85c-95326a9c89a4"
      },
      "execution_count": null,
      "outputs": [
        {
          "output_type": "error",
          "ename": "NameError",
          "evalue": "ignored",
          "traceback": [
            "\u001b[0;31m---------------------------------------------------------------------------\u001b[0m",
            "\u001b[0;31mNameError\u001b[0m                                 Traceback (most recent call last)",
            "\u001b[0;32m<ipython-input-77-8dd336fb2cf2>\u001b[0m in \u001b[0;36m<module>\u001b[0;34m()\u001b[0m\n\u001b[0;32m----> 1\u001b[0;31m \u001b[0mmse_eval\u001b[0m\u001b[0;34m(\u001b[0m\u001b[0;34m'Poly ElasticNet'\u001b[0m\u001b[0;34m,\u001b[0m \u001b[0mpoly_pred\u001b[0m\u001b[0;34m,\u001b[0m \u001b[0my_test\u001b[0m\u001b[0;34m)\u001b[0m\u001b[0;34m\u001b[0m\u001b[0;34m\u001b[0m\u001b[0m\n\u001b[0m",
            "\u001b[0;31mNameError\u001b[0m: name 'mse_eval' is not defined"
          ]
        }
      ]
    },
    {
      "cell_type": "code",
      "source": [],
      "metadata": {
        "id": "oaIRv1HU8b9l"
      },
      "execution_count": null,
      "outputs": []
    }
  ]
}